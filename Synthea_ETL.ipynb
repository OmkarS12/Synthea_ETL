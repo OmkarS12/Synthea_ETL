{
 "cells": [
  {
   "cell_type": "markdown",
   "metadata": {
    "application/vnd.databricks.v1+cell": {
     "cellMetadata": {
      "byteLimit": 2048000,
      "rowLimit": 10000
     },
     "inputWidgets": {},
     "nuid": "fdd12a04-ddd3-4195-ad9d-929552e92ef3",
     "showTitle": false,
     "title": ""
    }
   },
   "source": [
    "1. Configuration\n"
   ]
  },
  {
   "cell_type": "code",
   "execution_count": 0,
   "metadata": {
    "application/vnd.databricks.v1+cell": {
     "cellMetadata": {
      "byteLimit": 2048000,
      "rowLimit": 10000
     },
     "inputWidgets": {},
     "nuid": "67de90e1-dce9-48c1-b56b-cef2faf71508",
     "showTitle": false,
     "title": ""
    }
   },
   "outputs": [],
   "source": [
    "dbutils.widgets.text('root_path','FileStore/')\n",
    "dbutils.widgets.text('synth_in', 'FileStore/shared_uploads/omkars1202@gmail.com/')\n",
    "root_path=dbutils.widgets.get('root_path')\n",
    "synth_in=dbutils.widgets.get('synth_in')"
   ]
  },
  {
   "cell_type": "code",
   "execution_count": 0,
   "metadata": {
    "application/vnd.databricks.v1+cell": {
     "cellMetadata": {
      "byteLimit": 2048000,
      "rowLimit": 10000
     },
     "inputWidgets": {},
     "nuid": "13a21103-fba8-40aa-a87d-fa808b438412",
     "showTitle": false,
     "title": ""
    }
   },
   "outputs": [],
   "source": [
    "import os\n",
    "from pyspark.sql import functions as F\n",
    "from pyspark.sql import Window"
   ]
  },
  {
   "cell_type": "code",
   "execution_count": 0,
   "metadata": {
    "application/vnd.databricks.v1+cell": {
     "cellMetadata": {
      "byteLimit": 2048000,
      "rowLimit": 10000
     },
     "inputWidgets": {},
     "nuid": "7ff26d99-e78a-4637-aa01-3722c2c8ee6b",
     "showTitle": false,
     "title": ""
    }
   },
   "outputs": [
    {
     "output_type": "stream",
     "name": "stdout",
     "output_type": "stream",
     "text": [
      "Synthea Raw Path: FileStore/shared_uploads/omkars1202@gmail.com/\n Delta Output Path:FileStore/delta/\n"
     ]
    }
   ],
   "source": [
    "synthea_path  = synth_in\n",
    "delta_root_path = f\"{root_path}delta/\"\n",
    "print(f'Synthea Raw Path: {synthea_path}\\n Delta Output Path:{delta_root_path}')"
   ]
  },
  {
   "cell_type": "code",
   "execution_count": 0,
   "metadata": {
    "application/vnd.databricks.v1+cell": {
     "cellMetadata": {
      "byteLimit": 2048000,
      "rowLimit": 10000
     },
     "inputWidgets": {},
     "nuid": "7c742724-d46f-4ba0-a828-de93a9d8afba",
     "showTitle": false,
     "title": ""
    }
   },
   "outputs": [
    {
     "output_type": "stream",
     "name": "stdout",
     "output_type": "stream",
     "text": [
      "Synthea Raw Path: FileStore/shared_uploads/omkars1202@gmail.com/\nDelta Output Path: FileStore/delta/\n"
     ]
    }
   ],
   "source": [
    "print(f'Synthea Raw Path: {synthea_path}\\nDelta Output Path: {delta_root_path}')"
   ]
  },
  {
   "cell_type": "code",
   "execution_count": 0,
   "metadata": {
    "application/vnd.databricks.v1+cell": {
     "cellMetadata": {
      "byteLimit": 2048000,
      "rowLimit": 10000
     },
     "inputWidgets": {},
     "nuid": "8012d770-a5d0-4d09-b94c-510695bc6876",
     "showTitle": false,
     "title": ""
    }
   },
   "outputs": [
    {
     "output_type": "display_data",
     "data": {
      "text/html": [
       "<style scoped>\n",
       "  .table-result-container {\n",
       "    max-height: 300px;\n",
       "    overflow: auto;\n",
       "  }\n",
       "  table, th, td {\n",
       "    border: 1px solid black;\n",
       "    border-collapse: collapse;\n",
       "  }\n",
       "  th, td {\n",
       "    padding: 5px;\n",
       "  }\n",
       "  th {\n",
       "    text-align: left;\n",
       "  }\n",
       "</style><div class='table-result-container'><table class='table-result'><thead style='background-color: white'><tr><th>path</th><th>name</th><th>size</th><th>modificationTime</th></tr></thead><tbody><tr><td>dbfs:/FileStore/shared_uploads/omkars1202@gmail.com/allergies.csv</td><td>allergies.csv</td><td>70010</td><td>1708397768000</td></tr><tr><td>dbfs:/FileStore/shared_uploads/omkars1202@gmail.com/careplans.csv</td><td>careplans.csv</td><td>672599</td><td>1708397768000</td></tr><tr><td>dbfs:/FileStore/shared_uploads/omkars1202@gmail.com/conditions.csv</td><td>conditions.csv</td><td>1062972</td><td>1708397768000</td></tr><tr><td>dbfs:/FileStore/shared_uploads/omkars1202@gmail.com/devices.csv</td><td>devices.csv</td><td>17498</td><td>1708397768000</td></tr><tr><td>dbfs:/FileStore/shared_uploads/omkars1202@gmail.com/encounters.csv</td><td>encounters.csv</td><td>16474491</td><td>1708397774000</td></tr><tr><td>dbfs:/FileStore/shared_uploads/omkars1202@gmail.com/imaging_studies.csv</td><td>imaging_studies.csv</td><td>205364</td><td>1708397769000</td></tr><tr><td>dbfs:/FileStore/shared_uploads/omkars1202@gmail.com/immunizations.csv</td><td>immunizations.csv</td><td>2225013</td><td>1708397771000</td></tr><tr><td>dbfs:/FileStore/shared_uploads/omkars1202@gmail.com/medications.csv</td><td>medications.csv</td><td>10884009</td><td>1708397775000</td></tr><tr><td>dbfs:/FileStore/shared_uploads/omkars1202@gmail.com/observations.csv</td><td>observations.csv</td><td>43094924</td><td>1708397785000</td></tr><tr><td>dbfs:/FileStore/shared_uploads/omkars1202@gmail.com/organizations.csv</td><td>organizations.csv</td><td>169568</td><td>1708397776000</td></tr><tr><td>dbfs:/FileStore/shared_uploads/omkars1202@gmail.com/patients.csv</td><td>patients.csv</td><td>332570</td><td>1708397776000</td></tr><tr><td>dbfs:/FileStore/shared_uploads/omkars1202@gmail.com/payer_transitions.csv</td><td>payer_transitions.csv</td><td>341479</td><td>1708397777000</td></tr><tr><td>dbfs:/FileStore/shared_uploads/omkars1202@gmail.com/payers.csv</td><td>payers.csv</td><td>2200</td><td>1708397777000</td></tr><tr><td>dbfs:/FileStore/shared_uploads/omkars1202@gmail.com/procedures.csv</td><td>procedures.csv</td><td>5695028</td><td>1708397780000</td></tr><tr><td>dbfs:/FileStore/shared_uploads/omkars1202@gmail.com/providers.csv</td><td>providers.csv</td><td>1045666</td><td>1708397781000</td></tr><tr><td>dbfs:/FileStore/shared_uploads/omkars1202@gmail.com/supplies.csv</td><td>supplies.csv</td><td>49</td><td>1708397782000</td></tr></tbody></table></div>"
      ]
     },
     "metadata": {
      "application/vnd.databricks.v1+output": {
       "addedWidgets": {},
       "aggData": [],
       "aggError": "",
       "aggOverflow": false,
       "aggSchema": [],
       "aggSeriesLimitReached": false,
       "aggType": "",
       "arguments": {},
       "columnCustomDisplayInfos": {},
       "data": [
        [
         "dbfs:/FileStore/shared_uploads/omkars1202@gmail.com/allergies.csv",
         "allergies.csv",
         70010,
         1708397768000
        ],
        [
         "dbfs:/FileStore/shared_uploads/omkars1202@gmail.com/careplans.csv",
         "careplans.csv",
         672599,
         1708397768000
        ],
        [
         "dbfs:/FileStore/shared_uploads/omkars1202@gmail.com/conditions.csv",
         "conditions.csv",
         1062972,
         1708397768000
        ],
        [
         "dbfs:/FileStore/shared_uploads/omkars1202@gmail.com/devices.csv",
         "devices.csv",
         17498,
         1708397768000
        ],
        [
         "dbfs:/FileStore/shared_uploads/omkars1202@gmail.com/encounters.csv",
         "encounters.csv",
         16474491,
         1708397774000
        ],
        [
         "dbfs:/FileStore/shared_uploads/omkars1202@gmail.com/imaging_studies.csv",
         "imaging_studies.csv",
         205364,
         1708397769000
        ],
        [
         "dbfs:/FileStore/shared_uploads/omkars1202@gmail.com/immunizations.csv",
         "immunizations.csv",
         2225013,
         1708397771000
        ],
        [
         "dbfs:/FileStore/shared_uploads/omkars1202@gmail.com/medications.csv",
         "medications.csv",
         10884009,
         1708397775000
        ],
        [
         "dbfs:/FileStore/shared_uploads/omkars1202@gmail.com/observations.csv",
         "observations.csv",
         43094924,
         1708397785000
        ],
        [
         "dbfs:/FileStore/shared_uploads/omkars1202@gmail.com/organizations.csv",
         "organizations.csv",
         169568,
         1708397776000
        ],
        [
         "dbfs:/FileStore/shared_uploads/omkars1202@gmail.com/patients.csv",
         "patients.csv",
         332570,
         1708397776000
        ],
        [
         "dbfs:/FileStore/shared_uploads/omkars1202@gmail.com/payer_transitions.csv",
         "payer_transitions.csv",
         341479,
         1708397777000
        ],
        [
         "dbfs:/FileStore/shared_uploads/omkars1202@gmail.com/payers.csv",
         "payers.csv",
         2200,
         1708397777000
        ],
        [
         "dbfs:/FileStore/shared_uploads/omkars1202@gmail.com/procedures.csv",
         "procedures.csv",
         5695028,
         1708397780000
        ],
        [
         "dbfs:/FileStore/shared_uploads/omkars1202@gmail.com/providers.csv",
         "providers.csv",
         1045666,
         1708397781000
        ],
        [
         "dbfs:/FileStore/shared_uploads/omkars1202@gmail.com/supplies.csv",
         "supplies.csv",
         49,
         1708397782000
        ]
       ],
       "datasetInfos": [],
       "dbfsResultPath": null,
       "isJsonSchema": true,
       "metadata": {},
       "overflow": false,
       "plotOptions": {
        "customPlotOptions": {},
        "displayType": "table",
        "pivotAggregation": null,
        "pivotColumns": null,
        "xColumns": null,
        "yColumns": null
       },
       "removedWidgets": [],
       "schema": [
        {
         "metadata": "{}",
         "name": "path",
         "type": "\"string\""
        },
        {
         "metadata": "{}",
         "name": "name",
         "type": "\"string\""
        },
        {
         "metadata": "{}",
         "name": "size",
         "type": "\"long\""
        },
        {
         "metadata": "{}",
         "name": "modificationTime",
         "type": "\"long\""
        }
       ],
       "type": "table"
      }
     },
     "output_type": "display_data"
    }
   ],
   "source": [
    "display(dbutils.fs.ls(synthea_path))\n"
   ]
  },
  {
   "cell_type": "code",
   "execution_count": 0,
   "metadata": {
    "application/vnd.databricks.v1+cell": {
     "cellMetadata": {
      "byteLimit": 2048000,
      "rowLimit": 10000
     },
     "inputWidgets": {},
     "nuid": "bf1ec3bc-c2c1-43df-8654-da4333927af1",
     "showTitle": false,
     "title": ""
    }
   },
   "outputs": [],
   "source": [
    "datasets= ['allergies',\n",
    "          'careplans',\n",
    "          'conditions',\n",
    "          'devices',\n",
    "          'encounters',\n",
    "          'imaging_studies',\n",
    "          'immunizations',\n",
    "          'medications',\n",
    "          'observations',\n",
    "          'organizations',\n",
    "          'patients',\n",
    "          'payer_transitions',\n",
    "          'payers',\n",
    "          'procedures',\n",
    "          'providers',\n",
    "          'supplies'\n",
    "         ]"
   ]
  },
  {
   "cell_type": "markdown",
   "metadata": {
    "application/vnd.databricks.v1+cell": {
     "cellMetadata": {
      "byteLimit": 2048000,
      "rowLimit": 10000
     },
     "inputWidgets": {},
     "nuid": "d378f6d9-8821-4735-80e6-990eb398eac6",
     "showTitle": false,
     "title": ""
    }
   },
   "source": [
    "2. CSV Files as Spark Dataframes"
   ]
  },
  {
   "cell_type": "code",
   "execution_count": 0,
   "metadata": {
    "application/vnd.databricks.v1+cell": {
     "cellMetadata": {
      "byteLimit": 2048000,
      "rowLimit": 10000
     },
     "inputWidgets": {},
     "nuid": "f77d39ab-5e4e-49a0-b1ef-ef099af4399d",
     "showTitle": false,
     "title": ""
    }
   },
   "outputs": [],
   "source": [
    "# create a python dictionary of dataframes\n",
    "df_dict = {}\n",
    "for dataset in datasets:\n",
    "    df_dict[dataset] = spark.read.csv('dbfs:/{}/{}.csv'.format(synthea_path,dataset),header=True,inferSchema=True)"
   ]
  },
  {
   "cell_type": "code",
   "execution_count": 0,
   "metadata": {
    "application/vnd.databricks.v1+cell": {
     "cellMetadata": {
      "byteLimit": 2048000,
      "rowLimit": 10000
     },
     "inputWidgets": {},
     "nuid": "c7ef3a68-e666-4951-897b-ce27ab051341",
     "showTitle": false,
     "title": ""
    }
   },
   "outputs": [
    {
     "output_type": "stream",
     "name": "stdout",
     "output_type": "stream",
     "text": [
      "DataFrame keys (file names): dict_keys(['allergies', 'careplans', 'conditions', 'devices', 'encounters', 'imaging_studies', 'immunizations', 'medications', 'observations', 'organizations', 'patients', 'payer_transitions', 'payers', 'procedures', 'providers', 'supplies'])\n"
     ]
    }
   ],
   "source": [
    "# Print the dictionary keys (file names)\n",
    "print(\"DataFrame keys (file names):\", df_dict.keys())"
   ]
  },
  {
   "cell_type": "code",
   "execution_count": 0,
   "metadata": {
    "application/vnd.databricks.v1+cell": {
     "cellMetadata": {
      "byteLimit": 2048000,
      "rowLimit": 10000
     },
     "inputWidgets": {},
     "nuid": "8788b952-733f-4059-a73a-e48f33d0c565",
     "showTitle": false,
     "title": ""
    }
   },
   "outputs": [
    {
     "output_type": "display_data",
     "data": {
      "application/vnd.databricks.v1+bamboolib_hint": "{\"pd.DataFrames\": [], \"version\": \"0.0.1\"}",
      "text/plain": []
     },
     "metadata": {},
     "output_type": "display_data"
    },
    {
     "output_type": "display_data",
     "data": {
      "text/html": [
       "<style scoped>\n",
       "  .table-result-container {\n",
       "    max-height: 300px;\n",
       "    overflow: auto;\n",
       "  }\n",
       "  table, th, td {\n",
       "    border: 1px solid black;\n",
       "    border-collapse: collapse;\n",
       "  }\n",
       "  th, td {\n",
       "    padding: 5px;\n",
       "  }\n",
       "  th {\n",
       "    text-align: left;\n",
       "  }\n",
       "</style><div class='table-result-container'><table class='table-result'><thead style='background-color: white'><tr><th>dataset</th><th>n_records</th></tr></thead><tbody><tr><td>observations</td><td>299697</td></tr><tr><td>encounters</td><td>53346</td></tr><tr><td>medications</td><td>42989</td></tr><tr><td>procedures</td><td>34981</td></tr><tr><td>immunizations</td><td>15478</td></tr><tr><td>conditions</td><td>8376</td></tr><tr><td>providers</td><td>5855</td></tr><tr><td>payer_transitions</td><td>3801</td></tr><tr><td>careplans</td><td>3483</td></tr><tr><td>patients</td><td>1171</td></tr><tr><td>organizations</td><td>1119</td></tr><tr><td>imaging_studies</td><td>855</td></tr><tr><td>allergies</td><td>597</td></tr><tr><td>devices</td><td>78</td></tr><tr><td>payers</td><td>10</td></tr><tr><td>supplies</td><td>0</td></tr></tbody></table></div>"
      ]
     },
     "metadata": {
      "application/vnd.databricks.v1+output": {
       "addedWidgets": {},
       "aggData": [],
       "aggError": "",
       "aggOverflow": false,
       "aggSchema": [],
       "aggSeriesLimitReached": false,
       "aggType": "",
       "arguments": {},
       "columnCustomDisplayInfos": {},
       "data": [
        [
         "observations",
         299697
        ],
        [
         "encounters",
         53346
        ],
        [
         "medications",
         42989
        ],
        [
         "procedures",
         34981
        ],
        [
         "immunizations",
         15478
        ],
        [
         "conditions",
         8376
        ],
        [
         "providers",
         5855
        ],
        [
         "payer_transitions",
         3801
        ],
        [
         "careplans",
         3483
        ],
        [
         "patients",
         1171
        ],
        [
         "organizations",
         1119
        ],
        [
         "imaging_studies",
         855
        ],
        [
         "allergies",
         597
        ],
        [
         "devices",
         78
        ],
        [
         "payers",
         10
        ],
        [
         "supplies",
         0
        ]
       ],
       "datasetInfos": [],
       "dbfsResultPath": null,
       "isJsonSchema": true,
       "metadata": {},
       "overflow": false,
       "plotOptions": {
        "customPlotOptions": {},
        "displayType": "table",
        "pivotAggregation": null,
        "pivotColumns": null,
        "xColumns": null,
        "yColumns": null
       },
       "removedWidgets": [],
       "schema": [
        {
         "metadata": "{}",
         "name": "dataset",
         "type": "\"string\""
        },
        {
         "metadata": "{}",
         "name": "n_records",
         "type": "\"long\""
        }
       ],
       "type": "table"
      }
     },
     "output_type": "display_data"
    }
   ],
   "source": [
    "import pandas as pd\n",
    "dataframes=[(x[0],x[1].count()) for x in list(df_dict.items())]\n",
    "display(pd.DataFrame(dataframes,columns=['dataset','n_records']).sort_values(by=['n_records'],ascending=False))"
   ]
  },
  {
   "cell_type": "markdown",
   "metadata": {
    "application/vnd.databricks.v1+cell": {
     "cellMetadata": {
      "byteLimit": 2048000,
      "rowLimit": 10000
     },
     "inputWidgets": {},
     "nuid": "d5f7ceb9-9e28-456b-98b7-54d522a8f80a",
     "showTitle": false,
     "title": ""
    }
   },
   "source": [
    "3. De-identify Patient PHI (Masking to be performed in the Production ETL process)"
   ]
  },
  {
   "cell_type": "code",
   "execution_count": 0,
   "metadata": {
    "application/vnd.databricks.v1+cell": {
     "cellMetadata": {
      "byteLimit": 2048000,
      "rowLimit": 10000
     },
     "inputWidgets": {},
     "nuid": "47743f93-115c-4109-92b8-c30101b4c617",
     "showTitle": false,
     "title": ""
    }
   },
   "outputs": [],
   "source": [
    "from pyspark.sql.functions import pandas_udf\n",
    "from pyspark.sql.types import StringType\n",
    "import pandas as pd\n",
    "import hashlib"
   ]
  },
  {
   "cell_type": "code",
   "execution_count": 0,
   "metadata": {
    "application/vnd.databricks.v1+cell": {
     "cellMetadata": {
      "byteLimit": 2048000,
      "rowLimit": 10000
     },
     "inputWidgets": {},
     "nuid": "da49d01e-23b8-4c12-b87d-b8a8dd423902",
     "showTitle": false,
     "title": ""
    }
   },
   "outputs": [],
   "source": [
    "def mask_pii(pii_col: pd.Series) -> pd.Series:\n",
    "    '''\n",
    "    mask_pii: function takes a pandas series and returned sha1 hash values of elements\n",
    "    '''\n",
    "    sha_value = pii_col.map(lambda x: hashlib.sha1(x.encode()).hexdigest())\n",
    "    return sha_value\n",
    " \n",
    "mask_pii_udf = pandas_udf(mask_pii, returnType=StringType())"
   ]
  },
  {
   "cell_type": "markdown",
   "metadata": {
    "application/vnd.databricks.v1+cell": {
     "cellMetadata": {
      "byteLimit": 2048000,
      "rowLimit": 10000
     },
     "inputWidgets": {},
     "nuid": "580e0a5c-fd55-4899-85af-fca2765d0a3a",
     "showTitle": false,
     "title": ""
    }
   },
   "source": [
    "We then use this function to mask pii columns for a given set of columns, namely:\n",
    "\n",
    "['SSN','DRIVERS','PASSPORT','PREFIX','FIRST','LAST','SUFFIX','MAIDEN','BIRTHPLACE','ADDRESS']."
   ]
  },
  {
   "cell_type": "code",
   "execution_count": 0,
   "metadata": {
    "application/vnd.databricks.v1+cell": {
     "cellMetadata": {
      "byteLimit": 2048000,
      "rowLimit": 10000
     },
     "inputWidgets": {},
     "nuid": "d99fad08-e8ae-42bc-b8d8-89c316350183",
     "showTitle": false,
     "title": ""
    }
   },
   "outputs": [],
   "source": [
    "pii_cols=['SSN','DRIVERS','PASSPORT','PREFIX','FIRST','LAST','SUFFIX','MAIDEN','BIRTHPLACE','ADDRESS']\n",
    "patients_obfuscated = df_dict['patients']\n",
    "for c in pii_cols:\n",
    "  masked_col_name = c+'_masked'\n",
    "  patients_obfuscated = patients_obfuscated.withColumn(c,F.coalesce(c,F.lit('null'))).withColumn(masked_col_name,mask_pii_udf(c))"
   ]
  },
  {
   "cell_type": "markdown",
   "metadata": {
    "application/vnd.databricks.v1+cell": {
     "cellMetadata": {
      "byteLimit": 2048000,
      "rowLimit": 10000
     },
     "inputWidgets": {},
     "nuid": "61019acc-3f75-449e-84fa-471ea1a5c871",
     "showTitle": false,
     "title": ""
    }
   },
   "source": [
    "Replacing the Original records with the de-identified records\n"
   ]
  },
  {
   "cell_type": "code",
   "execution_count": 0,
   "metadata": {
    "application/vnd.databricks.v1+cell": {
     "cellMetadata": {
      "byteLimit": 2048000,
      "rowLimit": 10000
     },
     "inputWidgets": {},
     "nuid": "85583436-31d2-4942-95aa-834c53cd9d2f",
     "showTitle": false,
     "title": ""
    }
   },
   "outputs": [],
   "source": [
    "df_dict['patients']=patients_obfuscated.drop(*pii_cols)"
   ]
  },
  {
   "cell_type": "markdown",
   "metadata": {
    "application/vnd.databricks.v1+cell": {
     "cellMetadata": {
      "byteLimit": 2048000,
      "rowLimit": 10000
     },
     "inputWidgets": {},
     "nuid": "9fff5f83-c029-474d-94c5-8b13920598dc",
     "showTitle": false,
     "title": ""
    }
   },
   "source": [
    "4. Writing Tables to Dellta Lake"
   ]
  },
  {
   "cell_type": "code",
   "execution_count": 0,
   "metadata": {
    "application/vnd.databricks.v1+cell": {
     "cellMetadata": {
      "byteLimit": 2048000,
      "rowLimit": 10000
     },
     "inputWidgets": {},
     "nuid": "e8a545d5-3e12-45cd-bb88-ffbd6719aa01",
     "showTitle": false,
     "title": ""
    }
   },
   "outputs": [
    {
     "output_type": "stream",
     "name": "stdout",
     "output_type": "stream",
     "text": [
      "Delta tables will be stored in FileStore/delta/\n"
     ]
    }
   ],
   "source": [
    "try:\n",
    "  dbutils.fs.ls(delta_root_path)\n",
    "except:\n",
    "  print(f'Path {delta_root_path} does not exist, creating path {delta_root_path}')\n",
    "  dbutils.fs.mkdirs(delta_root_path)\n",
    "print(f'Delta tables will be stored in {delta_root_path}')"
   ]
  },
  {
   "cell_type": "code",
   "execution_count": 0,
   "metadata": {
    "application/vnd.databricks.v1+cell": {
     "cellMetadata": {
      "byteLimit": 2048000,
      "rowLimit": 10000
     },
     "inputWidgets": {},
     "nuid": "f372066d-a6e9-4474-b02a-2cfb05e2a9d0",
     "showTitle": false,
     "title": ""
    }
   },
   "outputs": [],
   "source": [
    "for table_name in datasets:\n",
    "  table_path = f'dbfs:/FileStore/delta'+ '/bronze/{}'.format(table_name)\n",
    "  df_dict[table_name].write.format('delta').mode(\"overwrite\").save(table_path)"
   ]
  },
  {
   "cell_type": "code",
   "execution_count": 0,
   "metadata": {
    "application/vnd.databricks.v1+cell": {
     "cellMetadata": {
      "byteLimit": 2048000,
      "rowLimit": 10000
     },
     "inputWidgets": {},
     "nuid": "77a89ef9-3967-4383-b725-243d9c6b08f8",
     "showTitle": false,
     "title": ""
    }
   },
   "outputs": [
    {
     "output_type": "display_data",
     "data": {
      "text/html": [
       "<style scoped>\n",
       "  .table-result-container {\n",
       "    max-height: 300px;\n",
       "    overflow: auto;\n",
       "  }\n",
       "  table, th, td {\n",
       "    border: 1px solid black;\n",
       "    border-collapse: collapse;\n",
       "  }\n",
       "  th, td {\n",
       "    padding: 5px;\n",
       "  }\n",
       "  th {\n",
       "    text-align: left;\n",
       "  }\n",
       "</style><div class='table-result-container'><table class='table-result'><thead style='background-color: white'><tr><th>path</th><th>name</th><th>size</th><th>modificationTime</th></tr></thead><tbody><tr><td>dbfs:/FileStore/delta/bronze/allergies/</td><td>allergies/</td><td>0</td><td>0</td></tr><tr><td>dbfs:/FileStore/delta/bronze/careplans/</td><td>careplans/</td><td>0</td><td>0</td></tr><tr><td>dbfs:/FileStore/delta/bronze/conditions/</td><td>conditions/</td><td>0</td><td>0</td></tr><tr><td>dbfs:/FileStore/delta/bronze/devices/</td><td>devices/</td><td>0</td><td>0</td></tr><tr><td>dbfs:/FileStore/delta/bronze/encounters/</td><td>encounters/</td><td>0</td><td>0</td></tr><tr><td>dbfs:/FileStore/delta/bronze/imaging_studies/</td><td>imaging_studies/</td><td>0</td><td>0</td></tr><tr><td>dbfs:/FileStore/delta/bronze/immunizations/</td><td>immunizations/</td><td>0</td><td>0</td></tr><tr><td>dbfs:/FileStore/delta/bronze/medications/</td><td>medications/</td><td>0</td><td>0</td></tr><tr><td>dbfs:/FileStore/delta/bronze/observations/</td><td>observations/</td><td>0</td><td>0</td></tr><tr><td>dbfs:/FileStore/delta/bronze/organizations/</td><td>organizations/</td><td>0</td><td>0</td></tr><tr><td>dbfs:/FileStore/delta/bronze/patients/</td><td>patients/</td><td>0</td><td>0</td></tr><tr><td>dbfs:/FileStore/delta/bronze/payer_transitions/</td><td>payer_transitions/</td><td>0</td><td>0</td></tr><tr><td>dbfs:/FileStore/delta/bronze/payers/</td><td>payers/</td><td>0</td><td>0</td></tr><tr><td>dbfs:/FileStore/delta/bronze/procedures/</td><td>procedures/</td><td>0</td><td>0</td></tr><tr><td>dbfs:/FileStore/delta/bronze/providers/</td><td>providers/</td><td>0</td><td>0</td></tr><tr><td>dbfs:/FileStore/delta/bronze/supplies/</td><td>supplies/</td><td>0</td><td>0</td></tr></tbody></table></div>"
      ]
     },
     "metadata": {
      "application/vnd.databricks.v1+output": {
       "addedWidgets": {},
       "aggData": [],
       "aggError": "",
       "aggOverflow": false,
       "aggSchema": [],
       "aggSeriesLimitReached": false,
       "aggType": "",
       "arguments": {},
       "columnCustomDisplayInfos": {},
       "data": [
        [
         "dbfs:/FileStore/delta/bronze/allergies/",
         "allergies/",
         0,
         0
        ],
        [
         "dbfs:/FileStore/delta/bronze/careplans/",
         "careplans/",
         0,
         0
        ],
        [
         "dbfs:/FileStore/delta/bronze/conditions/",
         "conditions/",
         0,
         0
        ],
        [
         "dbfs:/FileStore/delta/bronze/devices/",
         "devices/",
         0,
         0
        ],
        [
         "dbfs:/FileStore/delta/bronze/encounters/",
         "encounters/",
         0,
         0
        ],
        [
         "dbfs:/FileStore/delta/bronze/imaging_studies/",
         "imaging_studies/",
         0,
         0
        ],
        [
         "dbfs:/FileStore/delta/bronze/immunizations/",
         "immunizations/",
         0,
         0
        ],
        [
         "dbfs:/FileStore/delta/bronze/medications/",
         "medications/",
         0,
         0
        ],
        [
         "dbfs:/FileStore/delta/bronze/observations/",
         "observations/",
         0,
         0
        ],
        [
         "dbfs:/FileStore/delta/bronze/organizations/",
         "organizations/",
         0,
         0
        ],
        [
         "dbfs:/FileStore/delta/bronze/patients/",
         "patients/",
         0,
         0
        ],
        [
         "dbfs:/FileStore/delta/bronze/payer_transitions/",
         "payer_transitions/",
         0,
         0
        ],
        [
         "dbfs:/FileStore/delta/bronze/payers/",
         "payers/",
         0,
         0
        ],
        [
         "dbfs:/FileStore/delta/bronze/procedures/",
         "procedures/",
         0,
         0
        ],
        [
         "dbfs:/FileStore/delta/bronze/providers/",
         "providers/",
         0,
         0
        ],
        [
         "dbfs:/FileStore/delta/bronze/supplies/",
         "supplies/",
         0,
         0
        ]
       ],
       "datasetInfos": [],
       "dbfsResultPath": null,
       "isJsonSchema": true,
       "metadata": {},
       "overflow": false,
       "plotOptions": {
        "customPlotOptions": {},
        "displayType": "table",
        "pivotAggregation": null,
        "pivotColumns": null,
        "xColumns": null,
        "yColumns": null
       },
       "removedWidgets": [],
       "schema": [
        {
         "metadata": "{}",
         "name": "path",
         "type": "\"string\""
        },
        {
         "metadata": "{}",
         "name": "name",
         "type": "\"string\""
        },
        {
         "metadata": "{}",
         "name": "size",
         "type": "\"long\""
        },
        {
         "metadata": "{}",
         "name": "modificationTime",
         "type": "\"long\""
        }
       ],
       "type": "table"
      }
     },
     "output_type": "display_data"
    }
   ],
   "source": [
    "display(dbutils.fs.ls(f'{delta_root_path}/bronze/'))"
   ]
  },
  {
   "cell_type": "markdown",
   "metadata": {
    "application/vnd.databricks.v1+cell": {
     "cellMetadata": {},
     "inputWidgets": {},
     "nuid": "607582b3-e2af-452b-8cce-697e01045c28",
     "showTitle": false,
     "title": ""
    }
   },
   "source": [
    "Loading Data from Bronze Layer"
   ]
  },
  {
   "cell_type": "code",
   "execution_count": 0,
   "metadata": {
    "application/vnd.databricks.v1+cell": {
     "cellMetadata": {
      "byteLimit": 2048000,
      "rowLimit": 10000
     },
     "inputWidgets": {},
     "nuid": "1003fe49-e308-472c-bdc4-ee7e6d7c4d05",
     "showTitle": false,
     "title": ""
    }
   },
   "outputs": [
    {
     "output_type": "stream",
     "name": "stdout",
     "output_type": "stream",
     "text": [
      "Reading synthea delta tables from FileStore/delta/bronze\n"
     ]
    }
   ],
   "source": [
    "%python\n",
    "delta_root_path = f\"{root_path}delta/\"\n",
    "print(f\"Reading synthea delta tables from {delta_root_path}bronze\")"
   ]
  },
  {
   "cell_type": "code",
   "execution_count": 0,
   "metadata": {
    "application/vnd.databricks.v1+cell": {
     "cellMetadata": {
      "byteLimit": 2048000,
      "rowLimit": 10000
     },
     "inputWidgets": {},
     "nuid": "0e475740-9241-4003-898d-761048483cf3",
     "showTitle": false,
     "title": ""
    }
   },
   "outputs": [
    {
     "output_type": "display_data",
     "data": {
      "text/html": [
       "<style scoped>\n",
       "  .table-result-container {\n",
       "    max-height: 300px;\n",
       "    overflow: auto;\n",
       "  }\n",
       "  table, th, td {\n",
       "    border: 1px solid black;\n",
       "    border-collapse: collapse;\n",
       "  }\n",
       "  th, td {\n",
       "    padding: 5px;\n",
       "  }\n",
       "  th {\n",
       "    text-align: left;\n",
       "  }\n",
       "</style><div class='table-result-container'><table class='table-result'><thead style='background-color: white'><tr><th>table_name</th><th>n_records</th></tr></thead><tbody><tr><td>observations</td><td>299697</td></tr><tr><td>encounters</td><td>53346</td></tr><tr><td>medications</td><td>42989</td></tr><tr><td>procedures</td><td>34981</td></tr><tr><td>immunizations</td><td>15478</td></tr><tr><td>conditions</td><td>8376</td></tr><tr><td>providers</td><td>5855</td></tr><tr><td>payer_transitions</td><td>3801</td></tr><tr><td>careplans</td><td>3483</td></tr><tr><td>patients</td><td>1171</td></tr><tr><td>organizations</td><td>1119</td></tr><tr><td>imaging_studies</td><td>855</td></tr><tr><td>allergies</td><td>597</td></tr><tr><td>devices</td><td>78</td></tr><tr><td>payers</td><td>10</td></tr><tr><td>supplies</td><td>0</td></tr></tbody></table></div>"
      ]
     },
     "metadata": {
      "application/vnd.databricks.v1+output": {
       "addedWidgets": {},
       "aggData": [],
       "aggError": "",
       "aggOverflow": false,
       "aggSchema": [],
       "aggSeriesLimitReached": false,
       "aggType": "",
       "arguments": {},
       "columnCustomDisplayInfos": {},
       "data": [
        [
         "observations",
         299697
        ],
        [
         "encounters",
         53346
        ],
        [
         "medications",
         42989
        ],
        [
         "procedures",
         34981
        ],
        [
         "immunizations",
         15478
        ],
        [
         "conditions",
         8376
        ],
        [
         "providers",
         5855
        ],
        [
         "payer_transitions",
         3801
        ],
        [
         "careplans",
         3483
        ],
        [
         "patients",
         1171
        ],
        [
         "organizations",
         1119
        ],
        [
         "imaging_studies",
         855
        ],
        [
         "allergies",
         597
        ],
        [
         "devices",
         78
        ],
        [
         "payers",
         10
        ],
        [
         "supplies",
         0
        ]
       ],
       "datasetInfos": [],
       "dbfsResultPath": null,
       "isJsonSchema": true,
       "metadata": {},
       "overflow": false,
       "plotOptions": {
        "customPlotOptions": {},
        "displayType": "table",
        "pivotAggregation": null,
        "pivotColumns": null,
        "xColumns": null,
        "yColumns": null
       },
       "removedWidgets": [],
       "schema": [
        {
         "metadata": "{}",
         "name": "table_name",
         "type": "\"string\""
        },
        {
         "metadata": "{}",
         "name": "n_records",
         "type": "\"long\""
        }
       ],
       "type": "table"
      }
     },
     "output_type": "display_data"
    }
   ],
   "source": [
    "%python\n",
    "import pandas as pd\n",
    "\n",
    "table_names =['allergies','careplans','conditions','devices','encounters','imaging_studies',\\\n",
    "              'immunizations','medications','observations','organizations','patients',\\\n",
    "              'payer_transitions','payers','procedures','providers','supplies']\n",
    "              \n",
    "dataframes=[]\n",
    "for table_name in table_names:\n",
    "  df = spark.read.format('delta').load(\"{}/bronze/{}\".format(delta_root_path,table_name))\n",
    "  df.createOrReplaceTempView(table_name)\n",
    "  dataframes+=[[table_name,df.count()]]\n",
    "\n",
    "# Display number of records in each table\n",
    "pdf=pd.DataFrame(dataframes,columns=['table_name','n_records'])\n",
    "display(pdf.sort_values(by='n_records',ascending=False))"
   ]
  },
  {
   "cell_type": "markdown",
   "metadata": {
    "application/vnd.databricks.v1+cell": {
     "cellMetadata": {},
     "inputWidgets": {},
     "nuid": "fe7e5cdc-de8e-4ea0-9214-43a505634639",
     "showTitle": false,
     "title": ""
    }
   },
   "source": [
    "Creating Temporary views"
   ]
  },
  {
   "cell_type": "markdown",
   "metadata": {
    "application/vnd.databricks.v1+cell": {
     "cellMetadata": {},
     "inputWidgets": {},
     "nuid": "0067fd74-e158-44ad-a6e9-f1c2678017d2",
     "showTitle": false,
     "title": ""
    }
   },
   "source": [
    "1. Emergency Visits"
   ]
  },
  {
   "cell_type": "code",
   "execution_count": 0,
   "metadata": {
    "application/vnd.databricks.v1+cell": {
     "cellMetadata": {
      "byteLimit": 2048000,
      "implicitDf": true,
      "rowLimit": 10000
     },
     "inputWidgets": {},
     "nuid": "0438cae3-d8bf-499e-a9e0-fe341c89da21",
     "showTitle": false,
     "title": ""
    }
   },
   "outputs": [
    {
     "output_type": "display_data",
     "data": {
      "text/html": [
       "<style scoped>\n",
       "  .table-result-container {\n",
       "    max-height: 300px;\n",
       "    overflow: auto;\n",
       "  }\n",
       "  table, th, td {\n",
       "    border: 1px solid black;\n",
       "    border-collapse: collapse;\n",
       "  }\n",
       "  th, td {\n",
       "    padding: 5px;\n",
       "  }\n",
       "  th {\n",
       "    text-align: left;\n",
       "  }\n",
       "</style><div class='table-result-container'><table class='table-result'><thead style='background-color: white'><tr></tr></thead><tbody></tbody></table></div>"
      ]
     },
     "metadata": {
      "application/vnd.databricks.v1+output": {
       "addedWidgets": {},
       "aggData": [],
       "aggError": "",
       "aggOverflow": false,
       "aggSchema": [],
       "aggSeriesLimitReached": false,
       "aggType": "",
       "arguments": {},
       "columnCustomDisplayInfos": {},
       "data": [],
       "datasetInfos": [],
       "dbfsResultPath": null,
       "isJsonSchema": true,
       "metadata": {},
       "overflow": false,
       "plotOptions": {
        "customPlotOptions": {},
        "displayType": "table",
        "pivotAggregation": null,
        "pivotColumns": null,
        "xColumns": null,
        "yColumns": null
       },
       "removedWidgets": [],
       "schema": [],
       "type": "table"
      }
     },
     "output_type": "display_data"
    }
   ],
   "source": [
    "%sql\n",
    "CREATE OR REPLACE TEMPORARY VIEW ER_VISITS AS\n",
    "SELECT\n",
    "  T2.encounter_id,\n",
    "  T2.patient,\n",
    "  T2.encounterclass,\n",
    "  T2.VISIT_START_DATE,\n",
    "  T2.VISIT_END_DATE\n",
    "FROM\n",
    "  (\n",
    "    SELECT\n",
    "      MIN(encounter_id) AS encounter_id,\n",
    "      patient,\n",
    "      encounterclass,\n",
    "      VISIT_START_DATE,\n",
    "      MAX(VISIT_END_DATE) AS VISIT_END_DATE\n",
    "    FROM\n",
    "      (\n",
    "        SELECT\n",
    "          CL1.id AS encounter_id,\n",
    "          CL1.patient,\n",
    "          CL1.encounterclass,\n",
    "          CL1.start AS VISIT_START_DATE,\n",
    "          CL2.stop AS VISIT_END_DATE\n",
    "        FROM\n",
    "          encounters CL1\n",
    "          INNER JOIN encounters CL2 ON CL1.patient = CL2.patient\n",
    "          AND CL1.start = CL2.start\n",
    "          AND CL1.encounterclass = CL2.encounterclass\n",
    "        WHERE\n",
    "          CL1.encounterclass in ('emergency', 'urgent')\n",
    "      ) T1\n",
    "    GROUP BY\n",
    "      patient,\n",
    "      encounterclass,\n",
    "      VISIT_START_DATE\n",
    "  ) T2;"
   ]
  },
  {
   "cell_type": "code",
   "execution_count": 0,
   "metadata": {
    "application/vnd.databricks.v1+cell": {
     "cellMetadata": {
      "byteLimit": 2048000,
      "implicitDf": true,
      "rowLimit": 10000
     },
     "inputWidgets": {},
     "nuid": "208eea79-2e20-4237-bfe0-ed88991e3fcc",
     "showTitle": false,
     "title": ""
    }
   },
   "outputs": [
    {
     "output_type": "display_data",
     "data": {
      "text/html": [
       "<style scoped>\n",
       "  .table-result-container {\n",
       "    max-height: 300px;\n",
       "    overflow: auto;\n",
       "  }\n",
       "  table, th, td {\n",
       "    border: 1px solid black;\n",
       "    border-collapse: collapse;\n",
       "  }\n",
       "  th, td {\n",
       "    padding: 5px;\n",
       "  }\n",
       "  th {\n",
       "    text-align: left;\n",
       "  }\n",
       "</style><div class='table-result-container'><table class='table-result'><thead style='background-color: white'><tr><th>encounter_id</th><th>patient</th><th>encounterclass</th><th>VISIT_START_DATE</th><th>VISIT_END_DATE</th></tr></thead><tbody><tr><td>0e15ba84-8842-4dc0-a7e0-c1a3321ea9f1</td><td>0047123f-12e7-486c-82df-53b3a450e365</td><td>emergency</td><td>2013-01-09T00:15:54.000+0000</td><td>2013-01-09T01:15:54.000+0000</td></tr><tr><td>707985cb-aef1-415b-a019-6da47f2f03e0</td><td>0149d553-f571-4e99-867e-fcb9625d07c2</td><td>emergency</td><td>2011-04-21T13:13:20.000+0000</td><td>2011-04-21T14:43:20.000+0000</td></tr><tr><td>8372ee4e-7a34-43b6-9e41-45267059d76f</td><td>0149d553-f571-4e99-867e-fcb9625d07c2</td><td>emergency</td><td>2013-03-15T13:13:20.000+0000</td><td>2013-03-15T14:13:20.000+0000</td></tr><tr><td>988ddf8a-c6b6-4e6b-8d73-62f7309aa136</td><td>01e1f394-7219-4189-bceb-3cbd90cff90b</td><td>emergency</td><td>2010-10-15T14:39:24.000+0000</td><td>2010-10-15T16:09:24.000+0000</td></tr><tr><td>63f652b4-a23f-40c2-a1aa-3097acba7324</td><td>01e1f394-7219-4189-bceb-3cbd90cff90b</td><td>emergency</td><td>2011-04-13T14:39:24.000+0000</td><td>2011-04-13T15:39:24.000+0000</td></tr><tr><td>a2bb5ad7-c196-4a80-816b-3a78aff4d44e</td><td>01e1f394-7219-4189-bceb-3cbd90cff90b</td><td>emergency</td><td>2013-07-19T14:39:24.000+0000</td><td>2013-07-19T16:09:24.000+0000</td></tr><tr><td>14330854-ab2a-4b3f-97cb-a93d9a792a9b</td><td>01e1f394-7219-4189-bceb-3cbd90cff90b</td><td>emergency</td><td>2013-12-27T14:39:24.000+0000</td><td>2013-12-27T16:09:24.000+0000</td></tr><tr><td>326542d9-f7f8-4f0b-adcf-6e07f4ae7379</td><td>0288abb6-633c-40c3-ba0c-66c7d957727e</td><td>emergency</td><td>2011-11-28T04:07:36.000+0000</td><td>2011-11-28T05:07:36.000+0000</td></tr><tr><td>6df6f810-d81e-4fa5-8945-f3963e6837cf</td><td>0288abb6-633c-40c3-ba0c-66c7d957727e</td><td>emergency</td><td>2012-07-04T04:07:36.000+0000</td><td>2012-07-04T05:07:36.000+0000</td></tr><tr><td>6e18b023-32ea-40f8-a4b8-39a5058064bf</td><td>0288abb6-633c-40c3-ba0c-66c7d957727e</td><td>emergency</td><td>2017-07-29T04:07:36.000+0000</td><td>2017-07-29T05:40:36.000+0000</td></tr><tr><td>ae4f3923-c9b5-46da-a34b-fd56fbf167e1</td><td>0288abb6-633c-40c3-ba0c-66c7d957727e</td><td>emergency</td><td>2019-05-11T04:07:36.000+0000</td><td>2019-05-11T05:07:36.000+0000</td></tr><tr><td>163ab75b-f4be-4daf-b528-29164bbb484b</td><td>02f9aadd-72de-4b20-b381-f4c3b1cf7aa3</td><td>emergency</td><td>1982-05-13T20:06:53.000+0000</td><td>1982-05-13T22:23:53.000+0000</td></tr><tr><td>2e287922-007b-42a0-a9b0-74298cfe4bce</td><td>02f9aadd-72de-4b20-b381-f4c3b1cf7aa3</td><td>emergency</td><td>1994-05-11T20:06:53.000+0000</td><td>1994-05-12T05:04:53.000+0000</td></tr><tr><td>6661e6c8-abe9-42bb-886e-656f238b4ae4</td><td>02f9aadd-72de-4b20-b381-f4c3b1cf7aa3</td><td>emergency</td><td>2000-06-04T20:06:53.000+0000</td><td>2000-06-04T21:06:53.000+0000</td></tr><tr><td>f40d7a7a-b990-4d37-a215-3d3739c3c807</td><td>02f9aadd-72de-4b20-b381-f4c3b1cf7aa3</td><td>emergency</td><td>2001-02-19T20:06:53.000+0000</td><td>2001-02-19T21:06:53.000+0000</td></tr><tr><td>5485d66c-143c-47d1-8b52-fc23314604fa</td><td>03172f6e-fb21-4770-8eef-513730174ab7</td><td>emergency</td><td>1962-03-14T09:16:22.000+0000</td><td>1962-03-14T11:46:22.000+0000</td></tr><tr><td>deda4b5d-2f87-4033-8bfb-95c92fc84578</td><td>03172f6e-fb21-4770-8eef-513730174ab7</td><td>emergency</td><td>1963-10-30T09:16:22.000+0000</td><td>1963-10-30T10:16:22.000+0000</td></tr><tr><td>e4cd541c-f8c1-4dce-a0a0-9bb544c3f34c</td><td>03172f6e-fb21-4770-8eef-513730174ab7</td><td>emergency</td><td>1966-06-07T09:16:22.000+0000</td><td>1966-06-07T12:29:22.000+0000</td></tr><tr><td>f43f0fae-ea6a-4b4e-96d6-e4f77c2b0296</td><td>03172f6e-fb21-4770-8eef-513730174ab7</td><td>emergency</td><td>1966-11-04T09:16:22.000+0000</td><td>1966-11-04T11:14:22.000+0000</td></tr><tr><td>65d3d03b-900a-432a-a496-62532df03a11</td><td>03172f6e-fb21-4770-8eef-513730174ab7</td><td>emergency</td><td>1967-07-25T09:16:22.000+0000</td><td>1967-07-25T12:55:22.000+0000</td></tr><tr><td>c6e3db0e-8515-495d-a73d-02de2090cc56</td><td>0325261f-61eb-46f8-acc6-89d15053fecd</td><td>emergency</td><td>1962-10-02T13:04:22.000+0000</td><td>1962-10-02T14:49:22.000+0000</td></tr><tr><td>38f3fbc3-ec0f-40e1-853e-cab350c3504f</td><td>0325261f-61eb-46f8-acc6-89d15053fecd</td><td>emergency</td><td>2004-11-09T13:04:22.000+0000</td><td>2004-11-09T14:04:22.000+0000</td></tr><tr><td>c79c083a-0426-454b-b75e-f62dfe8bafa9</td><td>0325261f-61eb-46f8-acc6-89d15053fecd</td><td>emergency</td><td>2007-09-01T13:04:22.000+0000</td><td>2007-09-01T14:34:22.000+0000</td></tr><tr><td>6edbd608-7d76-4192-b9ab-e318a5c8da5f</td><td>03612a7e-6460-4ef6-9528-59d60f970b93</td><td>emergency</td><td>1978-03-05T12:21:33.000+0000</td><td>1978-03-05T13:21:33.000+0000</td></tr><tr><td>1208a0c1-6ee3-48b0-be85-be0d9d700d66</td><td>03612a7e-6460-4ef6-9528-59d60f970b93</td><td>emergency</td><td>2006-10-10T12:21:33.000+0000</td><td>2006-10-10T13:21:33.000+0000</td></tr><tr><td>4fe38474-4ab9-41f1-9bb2-91ac48c7c4a8</td><td>03612a7e-6460-4ef6-9528-59d60f970b93</td><td>emergency</td><td>2013-12-30T12:21:33.000+0000</td><td>2013-12-30T13:21:33.000+0000</td></tr><tr><td>bb9bb41f-d5d0-4a79-8571-a21461ba3e82</td><td>03612a7e-6460-4ef6-9528-59d60f970b93</td><td>emergency</td><td>2014-09-16T12:21:33.000+0000</td><td>2014-09-16T13:51:33.000+0000</td></tr><tr><td>cfb50afb-c08d-4cee-aaca-566eaa6f9f5c</td><td>03c5e223-c016-4477-947f-22c691d6a62c</td><td>emergency</td><td>2012-04-08T15:05:51.000+0000</td><td>2012-04-08T17:46:51.000+0000</td></tr><tr><td>61b7bf3b-f6df-4be6-94f0-23ea62f03a2f</td><td>03c5e223-c016-4477-947f-22c691d6a62c</td><td>emergency</td><td>2016-10-08T15:05:51.000+0000</td><td>2016-10-08T17:35:51.000+0000</td></tr><tr><td>d86be594-fd79-4c41-a167-8d03decb1558</td><td>03c5e223-c016-4477-947f-22c691d6a62c</td><td>emergency</td><td>2019-11-22T15:05:51.000+0000</td><td>2019-11-22T16:34:51.000+0000</td></tr><tr><td>20083627-a2a1-4c32-afbf-887e02d9ffd2</td><td>0447625b-b860-483c-9f30-17ed375b1493</td><td>emergency</td><td>2017-03-21T09:16:22.000+0000</td><td>2017-03-21T11:01:22.000+0000</td></tr><tr><td>58d0671f-5e42-4eb6-9678-6aa61ebd7b8f</td><td>04630e85-e9f5-4a9b-be75-97f2c3346037</td><td>emergency</td><td>1986-03-01T23:46:24.000+0000</td><td>1986-03-02T00:46:24.000+0000</td></tr><tr><td>0d06ef22-dd35-488b-af24-d6c0a0959604</td><td>04a29a39-c12f-480b-9521-f2d20559089f</td><td>emergency</td><td>1985-08-16T05:41:47.000+0000</td><td>1985-08-16T06:41:47.000+0000</td></tr><tr><td>e25d4a7b-bcc3-4b08-83ce-4b9c224fb249</td><td>04a29a39-c12f-480b-9521-f2d20559089f</td><td>emergency</td><td>1997-04-06T05:41:47.000+0000</td><td>1997-04-06T06:41:47.000+0000</td></tr><tr><td>ae864acb-1278-400a-9d86-73c94d87aa20</td><td>04a29a39-c12f-480b-9521-f2d20559089f</td><td>emergency</td><td>2017-12-08T05:41:47.000+0000</td><td>2017-12-08T08:02:47.000+0000</td></tr><tr><td>9d9a2004-f0ce-4438-a2fd-28e3ee020b4d</td><td>04a849f4-1aaf-4112-a62f-d44df4325773</td><td>emergency</td><td>2011-04-06T20:13:17.000+0000</td><td>2011-04-06T21:13:17.000+0000</td></tr><tr><td>dabe8612-4724-40bb-b904-cac5b8c8f7b9</td><td>04a849f4-1aaf-4112-a62f-d44df4325773</td><td>emergency</td><td>2015-03-16T20:13:17.000+0000</td><td>2015-03-16T22:08:17.000+0000</td></tr><tr><td>fb70fe4d-cc4a-4309-a44a-3f75ea3db3d7</td><td>04a849f4-1aaf-4112-a62f-d44df4325773</td><td>emergency</td><td>2019-01-18T20:13:17.000+0000</td><td>2019-01-18T21:43:17.000+0000</td></tr><tr><td>fd599040-d14f-4668-8b3e-88af5ecda134</td><td>04a849f4-1aaf-4112-a62f-d44df4325773</td><td>emergency</td><td>2019-04-24T20:13:17.000+0000</td><td>2019-04-24T21:50:17.000+0000</td></tr><tr><td>8d5259d2-46ac-4e16-8407-cab80a3e92b0</td><td>04a849f4-1aaf-4112-a62f-d44df4325773</td><td>emergency</td><td>2020-01-17T20:13:17.000+0000</td><td>2020-01-17T21:43:17.000+0000</td></tr><tr><td>03073ad4-3d6c-4ac4-b957-aa3c7ecba57e</td><td>04db6603-0017-4cc6-a46d-6df577b0a10d</td><td>emergency</td><td>2008-01-29T08:54:26.000+0000</td><td>2008-01-29T09:54:26.000+0000</td></tr><tr><td>da1639ae-5600-4baa-a47b-6894aa8b2964</td><td>04db6603-0017-4cc6-a46d-6df577b0a10d</td><td>emergency</td><td>2011-08-29T08:54:26.000+0000</td><td>2011-08-29T10:24:26.000+0000</td></tr><tr><td>35787606-9472-4b0b-8528-f2b44c1c7a36</td><td>04db6603-0017-4cc6-a46d-6df577b0a10d</td><td>emergency</td><td>2012-08-20T08:54:26.000+0000</td><td>2012-08-20T10:24:26.000+0000</td></tr><tr><td>0841d029-c81f-418e-b35c-849d17ad38b9</td><td>04db6603-0017-4cc6-a46d-6df577b0a10d</td><td>emergency</td><td>2018-11-02T08:54:26.000+0000</td><td>2018-11-02T09:54:26.000+0000</td></tr><tr><td>46edebf6-df50-479f-b70f-e77604cb4cf3</td><td>04dff6e5-123a-4c13-bd08-ad690d287173</td><td>emergency</td><td>2010-05-04T00:51:06.000+0000</td><td>2010-05-04T02:41:06.000+0000</td></tr><tr><td>884e2ceb-af4b-450a-aeaf-4641eede162d</td><td>0522e580-6775-49f5-b471-b39624280402</td><td>emergency</td><td>2009-05-19T08:39:57.000+0000</td><td>2009-05-19T10:58:57.000+0000</td></tr><tr><td>d1cae436-2f72-4b5d-b21e-2d3f4f676a78</td><td>0522e580-6775-49f5-b471-b39624280402</td><td>emergency</td><td>2016-04-27T08:39:57.000+0000</td><td>2016-04-27T10:09:57.000+0000</td></tr><tr><td>7b23cfd5-abff-4540-b305-bbb52a59e970</td><td>058590f8-c0f3-40c1-ac80-246437499d5d</td><td>emergency</td><td>2014-02-20T18:48:50.000+0000</td><td>2014-02-20T20:18:50.000+0000</td></tr><tr><td>73ef4342-a237-44ab-a172-a9423d8fba49</td><td>058590f8-c0f3-40c1-ac80-246437499d5d</td><td>emergency</td><td>2017-08-24T18:48:50.000+0000</td><td>2017-08-24T20:18:50.000+0000</td></tr><tr><td>19956e9a-7ea3-414b-b64c-a99c844ccd62</td><td>058590f8-c0f3-40c1-ac80-246437499d5d</td><td>emergency</td><td>2017-10-24T18:48:50.000+0000</td><td>2017-10-24T19:48:50.000+0000</td></tr><tr><td>29bcbd1c-6d0a-4f01-a7c0-efb526200566</td><td>05bfc523-bd56-4474-a2bb-1b74a4c1087e</td><td>emergency</td><td>2017-07-22T18:46:04.000+0000</td><td>2017-07-22T20:16:04.000+0000</td></tr><tr><td>9a2f2256-5d70-430d-914b-8155ec154676</td><td>0606d624-7695-41e2-96f0-0b5d3578ae24</td><td>emergency</td><td>2003-06-20T17:23:22.000+0000</td><td>2003-06-20T18:53:22.000+0000</td></tr><tr><td>3e47d26f-f919-4fc9-bd8d-d5e6dee065b8</td><td>0606d624-7695-41e2-96f0-0b5d3578ae24</td><td>emergency</td><td>2003-12-17T17:23:22.000+0000</td><td>2003-12-17T18:53:22.000+0000</td></tr><tr><td>d177f4cf-e7f5-4734-88e2-51d3e1aa3c26</td><td>0707e55b-e026-4361-aa2b-8e922ae62c5a</td><td>emergency</td><td>1977-01-16T19:09:49.000+0000</td><td>1977-01-16T21:50:49.000+0000</td></tr><tr><td>52e44d5a-0a51-4382-8136-ebe2a1480637</td><td>072f2f15-605e-4c83-b0a6-0274a0474b91</td><td>emergency</td><td>2019-08-07T09:56:44.000+0000</td><td>2019-08-07T12:21:44.000+0000</td></tr><tr><td>cdb38d3d-6e11-4d24-877a-f79e8275af24</td><td>076688b0-f0d5-4c45-8bc6-b206684fa9ac</td><td>emergency</td><td>1981-03-21T02:50:56.000+0000</td><td>1981-03-21T03:50:56.000+0000</td></tr><tr><td>a54b0c53-9ba0-43bc-8932-308967fba237</td><td>076688b0-f0d5-4c45-8bc6-b206684fa9ac</td><td>emergency</td><td>1994-08-08T02:50:56.000+0000</td><td>1994-08-08T03:50:56.000+0000</td></tr><tr><td>738df3fb-5526-4291-9980-e477a83e7be0</td><td>0780f97f-e326-4e51-8b5c-3461eea70517</td><td>emergency</td><td>2001-03-29T13:25:58.000+0000</td><td>2001-03-29T14:25:58.000+0000</td></tr><tr><td>7818e6ed-8401-4ffa-92da-72cebeedc0c9</td><td>07b30273-070e-47c7-9617-d12785a4c9d5</td><td>emergency</td><td>1990-06-21T19:57:35.000+0000</td><td>1990-06-21T21:11:35.000+0000</td></tr><tr><td>6647daae-0670-4c77-a856-2f4b9c93b980</td><td>07b30273-070e-47c7-9617-d12785a4c9d5</td><td>emergency</td><td>2014-12-10T19:57:35.000+0000</td><td>2014-12-10T20:57:35.000+0000</td></tr><tr><td>dc16839d-7814-4b53-b7f6-123c63935702</td><td>08180c75-dd87-418f-95ff-06fb2f434713</td><td>emergency</td><td>1976-06-23T23:17:56.000+0000</td><td>1976-06-24T00:47:56.000+0000</td></tr><tr><td>4800e158-03be-4b29-ac1b-97ba3b14c4bc</td><td>08180c75-dd87-418f-95ff-06fb2f434713</td><td>emergency</td><td>1979-05-22T23:17:56.000+0000</td><td>1979-05-23T00:17:56.000+0000</td></tr><tr><td>d6cbfc10-c255-461c-bfc7-d2890dde2b37</td><td>097079b1-ff8f-4ee0-8ce3-0ea744ecfa21</td><td>emergency</td><td>2010-06-16T14:03:38.000+0000</td><td>2010-06-16T16:49:38.000+0000</td></tr><tr><td>78b4917e-faf5-494e-bdce-b88710c3ecb2</td><td>097079b1-ff8f-4ee0-8ce3-0ea744ecfa21</td><td>emergency</td><td>2011-08-31T14:03:38.000+0000</td><td>2011-08-31T16:47:38.000+0000</td></tr><tr><td>f1806f0c-a295-4cad-b269-85320a9d122e</td><td>097079b1-ff8f-4ee0-8ce3-0ea744ecfa21</td><td>emergency</td><td>2013-05-01T14:03:38.000+0000</td><td>2013-05-01T15:03:38.000+0000</td></tr><tr><td>add54528-0bbb-4f8b-b7f1-6e80719e2edf</td><td>097079b1-ff8f-4ee0-8ce3-0ea744ecfa21</td><td>emergency</td><td>2015-12-23T14:03:38.000+0000</td><td>2015-12-23T17:04:38.000+0000</td></tr><tr><td>76759018-e32d-4b0f-8bbd-50bb66fc1894</td><td>097f7be5-fdc1-42a8-b54b-65eb48c12cf1</td><td>emergency</td><td>1995-10-18T22:37:34.000+0000</td><td>1995-10-18T23:37:34.000+0000</td></tr><tr><td>ab3ccf5c-0e59-4940-a41b-7b5d35ad55d7</td><td>097f7be5-fdc1-42a8-b54b-65eb48c12cf1</td><td>emergency</td><td>2009-04-04T22:37:34.000+0000</td><td>2009-04-05T00:22:34.000+0000</td></tr><tr><td>a943c8fe-6fe8-4789-8850-da0901d3afcb</td><td>0982ef39-7ff9-4c24-8239-e9fc0667e8ca</td><td>emergency</td><td>2017-09-25T13:22:24.000+0000</td><td>2017-09-25T14:37:24.000+0000</td></tr><tr><td>b26f4515-e04a-4075-b01b-b80a38c7165f</td><td>09867b02-24b8-4896-b38b-86782dd64ef1</td><td>emergency</td><td>2015-11-08T03:13:02.000+0000</td><td>2015-11-08T04:13:02.000+0000</td></tr><tr><td>0516096c-247c-4463-8df5-bf4782e88602</td><td>099198eb-df60-41d1-ad22-3655b957d805</td><td>emergency</td><td>1949-10-13T20:06:53.000+0000</td><td>1949-10-13T21:06:53.000+0000</td></tr><tr><td>1af17c33-ed32-4188-93e8-0a736333f1ea</td><td>099198eb-df60-41d1-ad22-3655b957d805</td><td>emergency</td><td>1959-02-21T20:06:53.000+0000</td><td>1959-02-21T21:06:53.000+0000</td></tr><tr><td>1c935ead-cca9-4602-9fbc-e27eeaa7338f</td><td>099198eb-df60-41d1-ad22-3655b957d805</td><td>emergency</td><td>1989-09-30T20:06:53.000+0000</td><td>1989-09-30T21:06:53.000+0000</td></tr><tr><td>3d4944fa-1d35-4420-b338-228db650afb6</td><td>099198eb-df60-41d1-ad22-3655b957d805</td><td>emergency</td><td>1990-08-01T20:06:53.000+0000</td><td>1990-08-01T21:06:53.000+0000</td></tr><tr><td>42fefe62-da3c-436d-93d2-b79b0e237d90</td><td>099198eb-df60-41d1-ad22-3655b957d805</td><td>emergency</td><td>1993-04-14T20:06:53.000+0000</td><td>1993-04-14T21:06:53.000+0000</td></tr><tr><td>835a0b8d-535f-46d9-8713-ce4ad592057c</td><td>099198eb-df60-41d1-ad22-3655b957d805</td><td>emergency</td><td>1993-09-11T20:06:53.000+0000</td><td>1993-09-11T21:06:53.000+0000</td></tr><tr><td>011ecd5b-f4bc-4b5a-8aed-3f654ce5700f</td><td>099198eb-df60-41d1-ad22-3655b957d805</td><td>emergency</td><td>1993-09-18T20:06:53.000+0000</td><td>1993-09-18T21:06:53.000+0000</td></tr><tr><td>69ffcd83-b120-4dde-9924-d762b4ae8b27</td><td>099198eb-df60-41d1-ad22-3655b957d805</td><td>emergency</td><td>1995-04-25T20:06:53.000+0000</td><td>1995-04-25T21:06:53.000+0000</td></tr><tr><td>4ed430c6-01b2-46cd-aa23-51fcd7f06235</td><td>099198eb-df60-41d1-ad22-3655b957d805</td><td>emergency</td><td>1997-02-28T20:06:53.000+0000</td><td>1997-02-28T21:06:53.000+0000</td></tr><tr><td>d0fe1f27-bf8e-44dd-8180-8ccbb8d4f903</td><td>099198eb-df60-41d1-ad22-3655b957d805</td><td>emergency</td><td>1998-05-15T20:06:53.000+0000</td><td>1998-05-15T21:06:53.000+0000</td></tr><tr><td>3098bf99-8086-470c-b42a-1e2d8043dc8d</td><td>09cbb3f1-c2ed-426c-8c53-ffda77efcb08</td><td>emergency</td><td>2010-08-30T09:59:52.000+0000</td><td>2010-08-30T11:29:52.000+0000</td></tr><tr><td>0cf40fb5-9250-4e93-bfa7-22f389b7178c</td><td>09fc03c4-aef7-47e1-941a-618f437dfbe2</td><td>emergency</td><td>2011-08-02T13:16:28.000+0000</td><td>2011-08-02T14:16:28.000+0000</td></tr><tr><td>f1e40699-65af-4b90-9fb9-cc4fe2fc997d</td><td>09fc03c4-aef7-47e1-941a-618f437dfbe2</td><td>emergency</td><td>2013-04-29T13:16:28.000+0000</td><td>2013-04-29T14:16:28.000+0000</td></tr><tr><td>a6d5e319-ee8d-4152-a6c5-4ee76c972920</td><td>0aaa2164-8de6-4152-8674-14d254aae13a</td><td>emergency</td><td>2010-06-30T10:27:19.000+0000</td><td>2010-06-30T11:53:19.000+0000</td></tr><tr><td>b91f9e51-b739-48bd-aa2d-54337cb13793</td><td>0aaa2164-8de6-4152-8674-14d254aae13a</td><td>emergency</td><td>2010-09-30T10:27:19.000+0000</td><td>2010-09-30T14:42:19.000+0000</td></tr><tr><td>7d6a97c6-0e84-4ea4-be7b-f2c16df8f193</td><td>0aaa2164-8de6-4152-8674-14d254aae13a</td><td>emergency</td><td>2011-07-16T10:27:19.000+0000</td><td>2011-07-16T12:21:19.000+0000</td></tr><tr><td>fb074187-7434-4555-b204-04b092ea6fe3</td><td>0aaa2164-8de6-4152-8674-14d254aae13a</td><td>emergency</td><td>2014-05-02T10:27:19.000+0000</td><td>2014-05-02T11:27:19.000+0000</td></tr><tr><td>88879c76-8158-4d8b-abfb-ca39d7e2cbd8</td><td>0aaa2164-8de6-4152-8674-14d254aae13a</td><td>emergency</td><td>2015-12-22T10:27:19.000+0000</td><td>2015-12-22T11:27:19.000+0000</td></tr><tr><td>d4482704-1674-45e4-92e8-f83c38ab8b94</td><td>0ace3e15-8aa4-41c5-8b90-2408285ebcfe</td><td>emergency</td><td>2018-05-14T23:32:25.000+0000</td><td>2018-05-15T00:32:25.000+0000</td></tr><tr><td>729f9692-4771-4839-ba5f-2db2fbcf36ef</td><td>0ace3e15-8aa4-41c5-8b90-2408285ebcfe</td><td>emergency</td><td>2019-05-14T23:32:25.000+0000</td><td>2019-05-15T00:32:25.000+0000</td></tr><tr><td>21013931-c236-436f-a0f6-76feef24d872</td><td>0b48619e-1602-488c-a23b-3d4937153dff</td><td>emergency</td><td>2010-06-28T15:18:00.000+0000</td><td>2010-06-28T16:48:00.000+0000</td></tr><tr><td>d18150bb-0269-43ce-b1eb-10788a825262</td><td>0b48619e-1602-488c-a23b-3d4937153dff</td><td>emergency</td><td>2011-06-13T15:18:00.000+0000</td><td>2011-06-13T16:48:00.000+0000</td></tr><tr><td>a7e20bb2-e819-41b0-833f-d35a048e6f3c</td><td>0b48619e-1602-488c-a23b-3d4937153dff</td><td>emergency</td><td>2013-07-22T15:18:00.000+0000</td><td>2013-07-22T16:48:00.000+0000</td></tr><tr><td>16a86e48-f8c7-4c32-a6a3-1f8f56d70ab2</td><td>0b48619e-1602-488c-a23b-3d4937153dff</td><td>emergency</td><td>2017-07-24T15:18:00.000+0000</td><td>2017-07-24T16:48:00.000+0000</td></tr><tr><td>2fcce719-82b9-4144-a950-d3c2231036ee</td><td>0b93425b-2c05-40c3-a806-25807904c598</td><td>emergency</td><td>2014-03-01T11:46:10.000+0000</td><td>2014-03-01T12:46:10.000+0000</td></tr><tr><td>fa405068-a37d-4ec8-8544-a6d08f4fc446</td><td>0b93425b-2c05-40c3-a806-25807904c598</td><td>emergency</td><td>2019-03-03T11:46:10.000+0000</td><td>2019-03-03T12:46:10.000+0000</td></tr><tr><td>c2a5c193-a6d1-43e7-88bc-529e27206c63</td><td>0b9e5e4d-2e1a-4ea6-a307-d8747ed779d0</td><td>emergency</td><td>2016-08-04T12:56:27.000+0000</td><td>2016-08-04T14:58:27.000+0000</td></tr><tr><td>9fd890b7-b727-4d1c-8fe5-86c510dd7af1</td><td>0b9e5e4d-2e1a-4ea6-a307-d8747ed779d0</td><td>emergency</td><td>2017-08-29T12:56:27.000+0000</td><td>2017-08-29T14:15:27.000+0000</td></tr><tr><td>d5b26a8a-bfc3-4615-9416-97f259926706</td><td>0b9e5e4d-2e1a-4ea6-a307-d8747ed779d0</td><td>emergency</td><td>2019-09-09T12:56:27.000+0000</td><td>2019-09-09T13:56:27.000+0000</td></tr><tr><td>9135df4d-1649-402a-9814-67c6bcf52446</td><td>0ba90366-87ad-4f9d-9bcd-c11e63eb6f27</td><td>emergency</td><td>1996-02-16T11:02:24.000+0000</td><td>1996-02-16T12:16:24.000+0000</td></tr></tbody></table></div>"
      ]
     },
     "metadata": {
      "application/vnd.databricks.v1+output": {
       "addedWidgets": {},
       "aggData": [],
       "aggError": "",
       "aggOverflow": false,
       "aggSchema": [],
       "aggSeriesLimitReached": false,
       "aggType": "",
       "arguments": {},
       "columnCustomDisplayInfos": {},
       "data": [
        [
         "0e15ba84-8842-4dc0-a7e0-c1a3321ea9f1",
         "0047123f-12e7-486c-82df-53b3a450e365",
         "emergency",
         "2013-01-09T00:15:54.000+0000",
         "2013-01-09T01:15:54.000+0000"
        ],
        [
         "707985cb-aef1-415b-a019-6da47f2f03e0",
         "0149d553-f571-4e99-867e-fcb9625d07c2",
         "emergency",
         "2011-04-21T13:13:20.000+0000",
         "2011-04-21T14:43:20.000+0000"
        ],
        [
         "8372ee4e-7a34-43b6-9e41-45267059d76f",
         "0149d553-f571-4e99-867e-fcb9625d07c2",
         "emergency",
         "2013-03-15T13:13:20.000+0000",
         "2013-03-15T14:13:20.000+0000"
        ],
        [
         "988ddf8a-c6b6-4e6b-8d73-62f7309aa136",
         "01e1f394-7219-4189-bceb-3cbd90cff90b",
         "emergency",
         "2010-10-15T14:39:24.000+0000",
         "2010-10-15T16:09:24.000+0000"
        ],
        [
         "63f652b4-a23f-40c2-a1aa-3097acba7324",
         "01e1f394-7219-4189-bceb-3cbd90cff90b",
         "emergency",
         "2011-04-13T14:39:24.000+0000",
         "2011-04-13T15:39:24.000+0000"
        ],
        [
         "a2bb5ad7-c196-4a80-816b-3a78aff4d44e",
         "01e1f394-7219-4189-bceb-3cbd90cff90b",
         "emergency",
         "2013-07-19T14:39:24.000+0000",
         "2013-07-19T16:09:24.000+0000"
        ],
        [
         "14330854-ab2a-4b3f-97cb-a93d9a792a9b",
         "01e1f394-7219-4189-bceb-3cbd90cff90b",
         "emergency",
         "2013-12-27T14:39:24.000+0000",
         "2013-12-27T16:09:24.000+0000"
        ],
        [
         "326542d9-f7f8-4f0b-adcf-6e07f4ae7379",
         "0288abb6-633c-40c3-ba0c-66c7d957727e",
         "emergency",
         "2011-11-28T04:07:36.000+0000",
         "2011-11-28T05:07:36.000+0000"
        ],
        [
         "6df6f810-d81e-4fa5-8945-f3963e6837cf",
         "0288abb6-633c-40c3-ba0c-66c7d957727e",
         "emergency",
         "2012-07-04T04:07:36.000+0000",
         "2012-07-04T05:07:36.000+0000"
        ],
        [
         "6e18b023-32ea-40f8-a4b8-39a5058064bf",
         "0288abb6-633c-40c3-ba0c-66c7d957727e",
         "emergency",
         "2017-07-29T04:07:36.000+0000",
         "2017-07-29T05:40:36.000+0000"
        ],
        [
         "ae4f3923-c9b5-46da-a34b-fd56fbf167e1",
         "0288abb6-633c-40c3-ba0c-66c7d957727e",
         "emergency",
         "2019-05-11T04:07:36.000+0000",
         "2019-05-11T05:07:36.000+0000"
        ],
        [
         "163ab75b-f4be-4daf-b528-29164bbb484b",
         "02f9aadd-72de-4b20-b381-f4c3b1cf7aa3",
         "emergency",
         "1982-05-13T20:06:53.000+0000",
         "1982-05-13T22:23:53.000+0000"
        ],
        [
         "2e287922-007b-42a0-a9b0-74298cfe4bce",
         "02f9aadd-72de-4b20-b381-f4c3b1cf7aa3",
         "emergency",
         "1994-05-11T20:06:53.000+0000",
         "1994-05-12T05:04:53.000+0000"
        ],
        [
         "6661e6c8-abe9-42bb-886e-656f238b4ae4",
         "02f9aadd-72de-4b20-b381-f4c3b1cf7aa3",
         "emergency",
         "2000-06-04T20:06:53.000+0000",
         "2000-06-04T21:06:53.000+0000"
        ],
        [
         "f40d7a7a-b990-4d37-a215-3d3739c3c807",
         "02f9aadd-72de-4b20-b381-f4c3b1cf7aa3",
         "emergency",
         "2001-02-19T20:06:53.000+0000",
         "2001-02-19T21:06:53.000+0000"
        ],
        [
         "5485d66c-143c-47d1-8b52-fc23314604fa",
         "03172f6e-fb21-4770-8eef-513730174ab7",
         "emergency",
         "1962-03-14T09:16:22.000+0000",
         "1962-03-14T11:46:22.000+0000"
        ],
        [
         "deda4b5d-2f87-4033-8bfb-95c92fc84578",
         "03172f6e-fb21-4770-8eef-513730174ab7",
         "emergency",
         "1963-10-30T09:16:22.000+0000",
         "1963-10-30T10:16:22.000+0000"
        ],
        [
         "e4cd541c-f8c1-4dce-a0a0-9bb544c3f34c",
         "03172f6e-fb21-4770-8eef-513730174ab7",
         "emergency",
         "1966-06-07T09:16:22.000+0000",
         "1966-06-07T12:29:22.000+0000"
        ],
        [
         "f43f0fae-ea6a-4b4e-96d6-e4f77c2b0296",
         "03172f6e-fb21-4770-8eef-513730174ab7",
         "emergency",
         "1966-11-04T09:16:22.000+0000",
         "1966-11-04T11:14:22.000+0000"
        ],
        [
         "65d3d03b-900a-432a-a496-62532df03a11",
         "03172f6e-fb21-4770-8eef-513730174ab7",
         "emergency",
         "1967-07-25T09:16:22.000+0000",
         "1967-07-25T12:55:22.000+0000"
        ],
        [
         "c6e3db0e-8515-495d-a73d-02de2090cc56",
         "0325261f-61eb-46f8-acc6-89d15053fecd",
         "emergency",
         "1962-10-02T13:04:22.000+0000",
         "1962-10-02T14:49:22.000+0000"
        ],
        [
         "38f3fbc3-ec0f-40e1-853e-cab350c3504f",
         "0325261f-61eb-46f8-acc6-89d15053fecd",
         "emergency",
         "2004-11-09T13:04:22.000+0000",
         "2004-11-09T14:04:22.000+0000"
        ],
        [
         "c79c083a-0426-454b-b75e-f62dfe8bafa9",
         "0325261f-61eb-46f8-acc6-89d15053fecd",
         "emergency",
         "2007-09-01T13:04:22.000+0000",
         "2007-09-01T14:34:22.000+0000"
        ],
        [
         "6edbd608-7d76-4192-b9ab-e318a5c8da5f",
         "03612a7e-6460-4ef6-9528-59d60f970b93",
         "emergency",
         "1978-03-05T12:21:33.000+0000",
         "1978-03-05T13:21:33.000+0000"
        ],
        [
         "1208a0c1-6ee3-48b0-be85-be0d9d700d66",
         "03612a7e-6460-4ef6-9528-59d60f970b93",
         "emergency",
         "2006-10-10T12:21:33.000+0000",
         "2006-10-10T13:21:33.000+0000"
        ],
        [
         "4fe38474-4ab9-41f1-9bb2-91ac48c7c4a8",
         "03612a7e-6460-4ef6-9528-59d60f970b93",
         "emergency",
         "2013-12-30T12:21:33.000+0000",
         "2013-12-30T13:21:33.000+0000"
        ],
        [
         "bb9bb41f-d5d0-4a79-8571-a21461ba3e82",
         "03612a7e-6460-4ef6-9528-59d60f970b93",
         "emergency",
         "2014-09-16T12:21:33.000+0000",
         "2014-09-16T13:51:33.000+0000"
        ],
        [
         "cfb50afb-c08d-4cee-aaca-566eaa6f9f5c",
         "03c5e223-c016-4477-947f-22c691d6a62c",
         "emergency",
         "2012-04-08T15:05:51.000+0000",
         "2012-04-08T17:46:51.000+0000"
        ],
        [
         "61b7bf3b-f6df-4be6-94f0-23ea62f03a2f",
         "03c5e223-c016-4477-947f-22c691d6a62c",
         "emergency",
         "2016-10-08T15:05:51.000+0000",
         "2016-10-08T17:35:51.000+0000"
        ],
        [
         "d86be594-fd79-4c41-a167-8d03decb1558",
         "03c5e223-c016-4477-947f-22c691d6a62c",
         "emergency",
         "2019-11-22T15:05:51.000+0000",
         "2019-11-22T16:34:51.000+0000"
        ],
        [
         "20083627-a2a1-4c32-afbf-887e02d9ffd2",
         "0447625b-b860-483c-9f30-17ed375b1493",
         "emergency",
         "2017-03-21T09:16:22.000+0000",
         "2017-03-21T11:01:22.000+0000"
        ],
        [
         "58d0671f-5e42-4eb6-9678-6aa61ebd7b8f",
         "04630e85-e9f5-4a9b-be75-97f2c3346037",
         "emergency",
         "1986-03-01T23:46:24.000+0000",
         "1986-03-02T00:46:24.000+0000"
        ],
        [
         "0d06ef22-dd35-488b-af24-d6c0a0959604",
         "04a29a39-c12f-480b-9521-f2d20559089f",
         "emergency",
         "1985-08-16T05:41:47.000+0000",
         "1985-08-16T06:41:47.000+0000"
        ],
        [
         "e25d4a7b-bcc3-4b08-83ce-4b9c224fb249",
         "04a29a39-c12f-480b-9521-f2d20559089f",
         "emergency",
         "1997-04-06T05:41:47.000+0000",
         "1997-04-06T06:41:47.000+0000"
        ],
        [
         "ae864acb-1278-400a-9d86-73c94d87aa20",
         "04a29a39-c12f-480b-9521-f2d20559089f",
         "emergency",
         "2017-12-08T05:41:47.000+0000",
         "2017-12-08T08:02:47.000+0000"
        ],
        [
         "9d9a2004-f0ce-4438-a2fd-28e3ee020b4d",
         "04a849f4-1aaf-4112-a62f-d44df4325773",
         "emergency",
         "2011-04-06T20:13:17.000+0000",
         "2011-04-06T21:13:17.000+0000"
        ],
        [
         "dabe8612-4724-40bb-b904-cac5b8c8f7b9",
         "04a849f4-1aaf-4112-a62f-d44df4325773",
         "emergency",
         "2015-03-16T20:13:17.000+0000",
         "2015-03-16T22:08:17.000+0000"
        ],
        [
         "fb70fe4d-cc4a-4309-a44a-3f75ea3db3d7",
         "04a849f4-1aaf-4112-a62f-d44df4325773",
         "emergency",
         "2019-01-18T20:13:17.000+0000",
         "2019-01-18T21:43:17.000+0000"
        ],
        [
         "fd599040-d14f-4668-8b3e-88af5ecda134",
         "04a849f4-1aaf-4112-a62f-d44df4325773",
         "emergency",
         "2019-04-24T20:13:17.000+0000",
         "2019-04-24T21:50:17.000+0000"
        ],
        [
         "8d5259d2-46ac-4e16-8407-cab80a3e92b0",
         "04a849f4-1aaf-4112-a62f-d44df4325773",
         "emergency",
         "2020-01-17T20:13:17.000+0000",
         "2020-01-17T21:43:17.000+0000"
        ],
        [
         "03073ad4-3d6c-4ac4-b957-aa3c7ecba57e",
         "04db6603-0017-4cc6-a46d-6df577b0a10d",
         "emergency",
         "2008-01-29T08:54:26.000+0000",
         "2008-01-29T09:54:26.000+0000"
        ],
        [
         "da1639ae-5600-4baa-a47b-6894aa8b2964",
         "04db6603-0017-4cc6-a46d-6df577b0a10d",
         "emergency",
         "2011-08-29T08:54:26.000+0000",
         "2011-08-29T10:24:26.000+0000"
        ],
        [
         "35787606-9472-4b0b-8528-f2b44c1c7a36",
         "04db6603-0017-4cc6-a46d-6df577b0a10d",
         "emergency",
         "2012-08-20T08:54:26.000+0000",
         "2012-08-20T10:24:26.000+0000"
        ],
        [
         "0841d029-c81f-418e-b35c-849d17ad38b9",
         "04db6603-0017-4cc6-a46d-6df577b0a10d",
         "emergency",
         "2018-11-02T08:54:26.000+0000",
         "2018-11-02T09:54:26.000+0000"
        ],
        [
         "46edebf6-df50-479f-b70f-e77604cb4cf3",
         "04dff6e5-123a-4c13-bd08-ad690d287173",
         "emergency",
         "2010-05-04T00:51:06.000+0000",
         "2010-05-04T02:41:06.000+0000"
        ],
        [
         "884e2ceb-af4b-450a-aeaf-4641eede162d",
         "0522e580-6775-49f5-b471-b39624280402",
         "emergency",
         "2009-05-19T08:39:57.000+0000",
         "2009-05-19T10:58:57.000+0000"
        ],
        [
         "d1cae436-2f72-4b5d-b21e-2d3f4f676a78",
         "0522e580-6775-49f5-b471-b39624280402",
         "emergency",
         "2016-04-27T08:39:57.000+0000",
         "2016-04-27T10:09:57.000+0000"
        ],
        [
         "7b23cfd5-abff-4540-b305-bbb52a59e970",
         "058590f8-c0f3-40c1-ac80-246437499d5d",
         "emergency",
         "2014-02-20T18:48:50.000+0000",
         "2014-02-20T20:18:50.000+0000"
        ],
        [
         "73ef4342-a237-44ab-a172-a9423d8fba49",
         "058590f8-c0f3-40c1-ac80-246437499d5d",
         "emergency",
         "2017-08-24T18:48:50.000+0000",
         "2017-08-24T20:18:50.000+0000"
        ],
        [
         "19956e9a-7ea3-414b-b64c-a99c844ccd62",
         "058590f8-c0f3-40c1-ac80-246437499d5d",
         "emergency",
         "2017-10-24T18:48:50.000+0000",
         "2017-10-24T19:48:50.000+0000"
        ],
        [
         "29bcbd1c-6d0a-4f01-a7c0-efb526200566",
         "05bfc523-bd56-4474-a2bb-1b74a4c1087e",
         "emergency",
         "2017-07-22T18:46:04.000+0000",
         "2017-07-22T20:16:04.000+0000"
        ],
        [
         "9a2f2256-5d70-430d-914b-8155ec154676",
         "0606d624-7695-41e2-96f0-0b5d3578ae24",
         "emergency",
         "2003-06-20T17:23:22.000+0000",
         "2003-06-20T18:53:22.000+0000"
        ],
        [
         "3e47d26f-f919-4fc9-bd8d-d5e6dee065b8",
         "0606d624-7695-41e2-96f0-0b5d3578ae24",
         "emergency",
         "2003-12-17T17:23:22.000+0000",
         "2003-12-17T18:53:22.000+0000"
        ],
        [
         "d177f4cf-e7f5-4734-88e2-51d3e1aa3c26",
         "0707e55b-e026-4361-aa2b-8e922ae62c5a",
         "emergency",
         "1977-01-16T19:09:49.000+0000",
         "1977-01-16T21:50:49.000+0000"
        ],
        [
         "52e44d5a-0a51-4382-8136-ebe2a1480637",
         "072f2f15-605e-4c83-b0a6-0274a0474b91",
         "emergency",
         "2019-08-07T09:56:44.000+0000",
         "2019-08-07T12:21:44.000+0000"
        ],
        [
         "cdb38d3d-6e11-4d24-877a-f79e8275af24",
         "076688b0-f0d5-4c45-8bc6-b206684fa9ac",
         "emergency",
         "1981-03-21T02:50:56.000+0000",
         "1981-03-21T03:50:56.000+0000"
        ],
        [
         "a54b0c53-9ba0-43bc-8932-308967fba237",
         "076688b0-f0d5-4c45-8bc6-b206684fa9ac",
         "emergency",
         "1994-08-08T02:50:56.000+0000",
         "1994-08-08T03:50:56.000+0000"
        ],
        [
         "738df3fb-5526-4291-9980-e477a83e7be0",
         "0780f97f-e326-4e51-8b5c-3461eea70517",
         "emergency",
         "2001-03-29T13:25:58.000+0000",
         "2001-03-29T14:25:58.000+0000"
        ],
        [
         "7818e6ed-8401-4ffa-92da-72cebeedc0c9",
         "07b30273-070e-47c7-9617-d12785a4c9d5",
         "emergency",
         "1990-06-21T19:57:35.000+0000",
         "1990-06-21T21:11:35.000+0000"
        ],
        [
         "6647daae-0670-4c77-a856-2f4b9c93b980",
         "07b30273-070e-47c7-9617-d12785a4c9d5",
         "emergency",
         "2014-12-10T19:57:35.000+0000",
         "2014-12-10T20:57:35.000+0000"
        ],
        [
         "dc16839d-7814-4b53-b7f6-123c63935702",
         "08180c75-dd87-418f-95ff-06fb2f434713",
         "emergency",
         "1976-06-23T23:17:56.000+0000",
         "1976-06-24T00:47:56.000+0000"
        ],
        [
         "4800e158-03be-4b29-ac1b-97ba3b14c4bc",
         "08180c75-dd87-418f-95ff-06fb2f434713",
         "emergency",
         "1979-05-22T23:17:56.000+0000",
         "1979-05-23T00:17:56.000+0000"
        ],
        [
         "d6cbfc10-c255-461c-bfc7-d2890dde2b37",
         "097079b1-ff8f-4ee0-8ce3-0ea744ecfa21",
         "emergency",
         "2010-06-16T14:03:38.000+0000",
         "2010-06-16T16:49:38.000+0000"
        ],
        [
         "78b4917e-faf5-494e-bdce-b88710c3ecb2",
         "097079b1-ff8f-4ee0-8ce3-0ea744ecfa21",
         "emergency",
         "2011-08-31T14:03:38.000+0000",
         "2011-08-31T16:47:38.000+0000"
        ],
        [
         "f1806f0c-a295-4cad-b269-85320a9d122e",
         "097079b1-ff8f-4ee0-8ce3-0ea744ecfa21",
         "emergency",
         "2013-05-01T14:03:38.000+0000",
         "2013-05-01T15:03:38.000+0000"
        ],
        [
         "add54528-0bbb-4f8b-b7f1-6e80719e2edf",
         "097079b1-ff8f-4ee0-8ce3-0ea744ecfa21",
         "emergency",
         "2015-12-23T14:03:38.000+0000",
         "2015-12-23T17:04:38.000+0000"
        ],
        [
         "76759018-e32d-4b0f-8bbd-50bb66fc1894",
         "097f7be5-fdc1-42a8-b54b-65eb48c12cf1",
         "emergency",
         "1995-10-18T22:37:34.000+0000",
         "1995-10-18T23:37:34.000+0000"
        ],
        [
         "ab3ccf5c-0e59-4940-a41b-7b5d35ad55d7",
         "097f7be5-fdc1-42a8-b54b-65eb48c12cf1",
         "emergency",
         "2009-04-04T22:37:34.000+0000",
         "2009-04-05T00:22:34.000+0000"
        ],
        [
         "a943c8fe-6fe8-4789-8850-da0901d3afcb",
         "0982ef39-7ff9-4c24-8239-e9fc0667e8ca",
         "emergency",
         "2017-09-25T13:22:24.000+0000",
         "2017-09-25T14:37:24.000+0000"
        ],
        [
         "b26f4515-e04a-4075-b01b-b80a38c7165f",
         "09867b02-24b8-4896-b38b-86782dd64ef1",
         "emergency",
         "2015-11-08T03:13:02.000+0000",
         "2015-11-08T04:13:02.000+0000"
        ],
        [
         "0516096c-247c-4463-8df5-bf4782e88602",
         "099198eb-df60-41d1-ad22-3655b957d805",
         "emergency",
         "1949-10-13T20:06:53.000+0000",
         "1949-10-13T21:06:53.000+0000"
        ],
        [
         "1af17c33-ed32-4188-93e8-0a736333f1ea",
         "099198eb-df60-41d1-ad22-3655b957d805",
         "emergency",
         "1959-02-21T20:06:53.000+0000",
         "1959-02-21T21:06:53.000+0000"
        ],
        [
         "1c935ead-cca9-4602-9fbc-e27eeaa7338f",
         "099198eb-df60-41d1-ad22-3655b957d805",
         "emergency",
         "1989-09-30T20:06:53.000+0000",
         "1989-09-30T21:06:53.000+0000"
        ],
        [
         "3d4944fa-1d35-4420-b338-228db650afb6",
         "099198eb-df60-41d1-ad22-3655b957d805",
         "emergency",
         "1990-08-01T20:06:53.000+0000",
         "1990-08-01T21:06:53.000+0000"
        ],
        [
         "42fefe62-da3c-436d-93d2-b79b0e237d90",
         "099198eb-df60-41d1-ad22-3655b957d805",
         "emergency",
         "1993-04-14T20:06:53.000+0000",
         "1993-04-14T21:06:53.000+0000"
        ],
        [
         "835a0b8d-535f-46d9-8713-ce4ad592057c",
         "099198eb-df60-41d1-ad22-3655b957d805",
         "emergency",
         "1993-09-11T20:06:53.000+0000",
         "1993-09-11T21:06:53.000+0000"
        ],
        [
         "011ecd5b-f4bc-4b5a-8aed-3f654ce5700f",
         "099198eb-df60-41d1-ad22-3655b957d805",
         "emergency",
         "1993-09-18T20:06:53.000+0000",
         "1993-09-18T21:06:53.000+0000"
        ],
        [
         "69ffcd83-b120-4dde-9924-d762b4ae8b27",
         "099198eb-df60-41d1-ad22-3655b957d805",
         "emergency",
         "1995-04-25T20:06:53.000+0000",
         "1995-04-25T21:06:53.000+0000"
        ],
        [
         "4ed430c6-01b2-46cd-aa23-51fcd7f06235",
         "099198eb-df60-41d1-ad22-3655b957d805",
         "emergency",
         "1997-02-28T20:06:53.000+0000",
         "1997-02-28T21:06:53.000+0000"
        ],
        [
         "d0fe1f27-bf8e-44dd-8180-8ccbb8d4f903",
         "099198eb-df60-41d1-ad22-3655b957d805",
         "emergency",
         "1998-05-15T20:06:53.000+0000",
         "1998-05-15T21:06:53.000+0000"
        ],
        [
         "3098bf99-8086-470c-b42a-1e2d8043dc8d",
         "09cbb3f1-c2ed-426c-8c53-ffda77efcb08",
         "emergency",
         "2010-08-30T09:59:52.000+0000",
         "2010-08-30T11:29:52.000+0000"
        ],
        [
         "0cf40fb5-9250-4e93-bfa7-22f389b7178c",
         "09fc03c4-aef7-47e1-941a-618f437dfbe2",
         "emergency",
         "2011-08-02T13:16:28.000+0000",
         "2011-08-02T14:16:28.000+0000"
        ],
        [
         "f1e40699-65af-4b90-9fb9-cc4fe2fc997d",
         "09fc03c4-aef7-47e1-941a-618f437dfbe2",
         "emergency",
         "2013-04-29T13:16:28.000+0000",
         "2013-04-29T14:16:28.000+0000"
        ],
        [
         "a6d5e319-ee8d-4152-a6c5-4ee76c972920",
         "0aaa2164-8de6-4152-8674-14d254aae13a",
         "emergency",
         "2010-06-30T10:27:19.000+0000",
         "2010-06-30T11:53:19.000+0000"
        ],
        [
         "b91f9e51-b739-48bd-aa2d-54337cb13793",
         "0aaa2164-8de6-4152-8674-14d254aae13a",
         "emergency",
         "2010-09-30T10:27:19.000+0000",
         "2010-09-30T14:42:19.000+0000"
        ],
        [
         "7d6a97c6-0e84-4ea4-be7b-f2c16df8f193",
         "0aaa2164-8de6-4152-8674-14d254aae13a",
         "emergency",
         "2011-07-16T10:27:19.000+0000",
         "2011-07-16T12:21:19.000+0000"
        ],
        [
         "fb074187-7434-4555-b204-04b092ea6fe3",
         "0aaa2164-8de6-4152-8674-14d254aae13a",
         "emergency",
         "2014-05-02T10:27:19.000+0000",
         "2014-05-02T11:27:19.000+0000"
        ],
        [
         "88879c76-8158-4d8b-abfb-ca39d7e2cbd8",
         "0aaa2164-8de6-4152-8674-14d254aae13a",
         "emergency",
         "2015-12-22T10:27:19.000+0000",
         "2015-12-22T11:27:19.000+0000"
        ],
        [
         "d4482704-1674-45e4-92e8-f83c38ab8b94",
         "0ace3e15-8aa4-41c5-8b90-2408285ebcfe",
         "emergency",
         "2018-05-14T23:32:25.000+0000",
         "2018-05-15T00:32:25.000+0000"
        ],
        [
         "729f9692-4771-4839-ba5f-2db2fbcf36ef",
         "0ace3e15-8aa4-41c5-8b90-2408285ebcfe",
         "emergency",
         "2019-05-14T23:32:25.000+0000",
         "2019-05-15T00:32:25.000+0000"
        ],
        [
         "21013931-c236-436f-a0f6-76feef24d872",
         "0b48619e-1602-488c-a23b-3d4937153dff",
         "emergency",
         "2010-06-28T15:18:00.000+0000",
         "2010-06-28T16:48:00.000+0000"
        ],
        [
         "d18150bb-0269-43ce-b1eb-10788a825262",
         "0b48619e-1602-488c-a23b-3d4937153dff",
         "emergency",
         "2011-06-13T15:18:00.000+0000",
         "2011-06-13T16:48:00.000+0000"
        ],
        [
         "a7e20bb2-e819-41b0-833f-d35a048e6f3c",
         "0b48619e-1602-488c-a23b-3d4937153dff",
         "emergency",
         "2013-07-22T15:18:00.000+0000",
         "2013-07-22T16:48:00.000+0000"
        ],
        [
         "16a86e48-f8c7-4c32-a6a3-1f8f56d70ab2",
         "0b48619e-1602-488c-a23b-3d4937153dff",
         "emergency",
         "2017-07-24T15:18:00.000+0000",
         "2017-07-24T16:48:00.000+0000"
        ],
        [
         "2fcce719-82b9-4144-a950-d3c2231036ee",
         "0b93425b-2c05-40c3-a806-25807904c598",
         "emergency",
         "2014-03-01T11:46:10.000+0000",
         "2014-03-01T12:46:10.000+0000"
        ],
        [
         "fa405068-a37d-4ec8-8544-a6d08f4fc446",
         "0b93425b-2c05-40c3-a806-25807904c598",
         "emergency",
         "2019-03-03T11:46:10.000+0000",
         "2019-03-03T12:46:10.000+0000"
        ],
        [
         "c2a5c193-a6d1-43e7-88bc-529e27206c63",
         "0b9e5e4d-2e1a-4ea6-a307-d8747ed779d0",
         "emergency",
         "2016-08-04T12:56:27.000+0000",
         "2016-08-04T14:58:27.000+0000"
        ],
        [
         "9fd890b7-b727-4d1c-8fe5-86c510dd7af1",
         "0b9e5e4d-2e1a-4ea6-a307-d8747ed779d0",
         "emergency",
         "2017-08-29T12:56:27.000+0000",
         "2017-08-29T14:15:27.000+0000"
        ],
        [
         "d5b26a8a-bfc3-4615-9416-97f259926706",
         "0b9e5e4d-2e1a-4ea6-a307-d8747ed779d0",
         "emergency",
         "2019-09-09T12:56:27.000+0000",
         "2019-09-09T13:56:27.000+0000"
        ],
        [
         "9135df4d-1649-402a-9814-67c6bcf52446",
         "0ba90366-87ad-4f9d-9bcd-c11e63eb6f27",
         "emergency",
         "1996-02-16T11:02:24.000+0000",
         "1996-02-16T12:16:24.000+0000"
        ]
       ],
       "datasetInfos": [],
       "dbfsResultPath": null,
       "isJsonSchema": true,
       "metadata": {},
       "overflow": false,
       "plotOptions": {
        "customPlotOptions": {},
        "displayType": "table",
        "pivotAggregation": null,
        "pivotColumns": null,
        "xColumns": null,
        "yColumns": null
       },
       "removedWidgets": [],
       "schema": [
        {
         "metadata": "{}",
         "name": "encounter_id",
         "type": "\"string\""
        },
        {
         "metadata": "{}",
         "name": "patient",
         "type": "\"string\""
        },
        {
         "metadata": "{}",
         "name": "encounterclass",
         "type": "\"string\""
        },
        {
         "metadata": "{}",
         "name": "VISIT_START_DATE",
         "type": "\"timestamp\""
        },
        {
         "metadata": "{}",
         "name": "VISIT_END_DATE",
         "type": "\"timestamp\""
        }
       ],
       "type": "table"
      }
     },
     "output_type": "display_data"
    }
   ],
   "source": [
    "%sql\n",
    "SELECT * FROM ER_VISITS LIMIT 100;"
   ]
  },
  {
   "cell_type": "code",
   "execution_count": 0,
   "metadata": {
    "application/vnd.databricks.v1+cell": {
     "cellMetadata": {},
     "inputWidgets": {},
     "nuid": "249090b0-8f38-4775-979a-14a8b279bdd1",
     "showTitle": false,
     "title": ""
    }
   },
   "outputs": [],
   "source": []
  }
 ],
 "metadata": {
  "application/vnd.databricks.v1+notebook": {
   "dashboards": [
    {
     "elements": [
      {
       "dashboardResultIndex": 0,
       "elementNUID": "208eea79-2e20-4237-bfe0-ed88991e3fcc",
       "elementType": "command",
       "guid": "1520417d-d1c2-4dbf-9a54-e9d55f1fe665",
       "options": null,
       "position": {
        "height": 6,
        "width": 12,
        "x": 0,
        "y": 0,
        "z": null
       },
       "resultIndex": null
      }
     ],
     "globalVars": {},
     "guid": "",
     "layoutOption": {
      "grid": true,
      "stack": true
     },
     "nuid": "1bd29058-71d7-4dc8-a1c7-540314a17ff5",
     "origId": 1118646800733341,
     "title": "Emergency Visits",
     "version": "DashboardViewV1",
     "width": 1024
    }
   ],
   "language": "python",
   "notebookMetadata": {
    "mostRecentlyExecutedCommandWithImplicitDF": {
     "commandId": 1118646800733339,
     "dataframes": [
      "_sqldf"
     ]
    },
    "pythonIndentUnit": 4
   },
   "notebookName": "Synthea_ETL",
   "widgets": {
    "root_path": {
     "currentValue": "FileStore/",
     "nuid": "b9e5380b-d272-46d9-8677-b1e34a90679e",
     "widgetInfo": {
      "widgetType": "text",
      "defaultValue": "FileStore/",
      "label": null,
      "name": "root_path",
      "options": {
       "widgetType": "text",
       "autoCreated": null,
       "validationRegex": null
      }
     }
    },
    "synth_in": {
     "currentValue": "FileStore/shared_uploads/omkars1202@gmail.com/",
     "nuid": "be96e588-3cd0-4848-8603-c302aa83331f",
     "widgetInfo": {
      "widgetType": "text",
      "defaultValue": "FileStore/shared_uploads/omkars1202@gmail.com/",
      "label": null,
      "name": "synth_in",
      "options": {
       "widgetType": "text",
       "autoCreated": null,
       "validationRegex": null
      }
     }
    }
   }
  }
 },
 "nbformat": 4,
 "nbformat_minor": 0
}
